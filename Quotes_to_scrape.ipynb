{
 "cells": [
  {
   "cell_type": "markdown",
   "id": "285e1ec8",
   "metadata": {},
   "source": [
    "## EXERCICI 1 : QUOTES TO SCRAPE"
   ]
  },
  {
   "cell_type": "markdown",
   "id": "ebfe3748",
   "metadata": {},
   "source": [
    "En este ejercicio nos planteamos extraer, con la ayuda de Selenium, información de la web https://quotes.toscrape.com."
   ]
  },
  {
   "cell_type": "code",
   "execution_count": 1,
   "id": "facb6267",
   "metadata": {},
   "outputs": [],
   "source": [
    "import selenium\n",
    "from selenium import webdriver\n",
    "from selenium.webdriver import Chrome\n",
    "from selenium.webdriver.common.by import By\n",
    "\n",
    "import pandas as pd"
   ]
  },
  {
   "cell_type": "code",
   "execution_count": 2,
   "id": "758c6256",
   "metadata": {},
   "outputs": [],
   "source": [
    "driver=webdriver.Chrome()"
   ]
  },
  {
   "cell_type": "code",
   "execution_count": 3,
   "id": "2c800fa7",
   "metadata": {},
   "outputs": [],
   "source": [
    "driver.get('https://quotes.toscrape.com')"
   ]
  },
  {
   "cell_type": "markdown",
   "id": "94493463",
   "metadata": {},
   "source": [
    "## ANALISIS EXPLORATORIO DE LA WEB"
   ]
  },
  {
   "cell_type": "code",
   "execution_count": 4,
   "id": "09ea2585",
   "metadata": {
    "scrolled": true
   },
   "outputs": [
    {
     "name": "stdout",
     "output_type": "stream",
     "text": [
      "Quotes to Scrape\n"
     ]
    }
   ],
   "source": [
    "print(driver.title)"
   ]
  },
  {
   "cell_type": "markdown",
   "id": "f8f2ec63",
   "metadata": {},
   "source": [
    "Esta Web proporciona una serie de citas de personajes famosos. Para cada cita proporciona el nombre del autor, un link de referencia a una página con la biografía del autor, y una serie de etiquetas que permite categorizarla.\n",
    "\n",
    "La Web consta de varias páginas por las cuales se pueden navegar usando los links 'Next' y 'Previous'."
   ]
  },
  {
   "cell_type": "markdown",
   "id": "7dc012a7",
   "metadata": {},
   "source": [
    "## PLANTEAMIENTO"
   ]
  },
  {
   "cell_type": "markdown",
   "id": "7b52a75c",
   "metadata": {},
   "source": [
    "Nos planteamos crear un dataset que recoja la totalidad de las citas de la Web, y que nos proporcione para cada una:  \n",
    "\n",
    "- el nombre del autor\n",
    "- el link a la página que proporciona su biografía\n",
    "- las etiquetas que la categorizan"
   ]
  },
  {
   "cell_type": "markdown",
   "id": "1ce721ea",
   "metadata": {},
   "source": [
    "## Lista de url de las páginas"
   ]
  },
  {
   "cell_type": "code",
   "execution_count": 5,
   "id": "58bb5526",
   "metadata": {},
   "outputs": [],
   "source": [
    "quotes=driver.find_elements(By.CLASS_NAME,'quote')"
   ]
  },
  {
   "cell_type": "code",
   "execution_count": 6,
   "id": "334082f0",
   "metadata": {
    "scrolled": true
   },
   "outputs": [
    {
     "data": {
      "text/plain": [
       "10"
      ]
     },
     "execution_count": 6,
     "metadata": {},
     "output_type": "execute_result"
    }
   ],
   "source": [
    "len(quotes)"
   ]
  },
  {
   "cell_type": "markdown",
   "id": "1e69078b",
   "metadata": {},
   "source": [
    "Vemos que la búsqueda de elementos se limita a la primera página, debemos por lo tanto localizar el url de cada página de la Web para poder acceder a la totalidad del contenido.\n",
    "\n",
    "Para ello creamos una lista que agrupe las urls de las páginas a las cuales se accede clickando en el link 'Next':\n",
    "    "
   ]
  },
  {
   "cell_type": "code",
   "execution_count": 7,
   "id": "5b572dbd",
   "metadata": {},
   "outputs": [],
   "source": [
    "urls = []\n",
    "while True:\n",
    "    try:\n",
    "        urrl = driver.current_url\n",
    "        urls.append(urrl)\n",
    "        next_page = driver.find_element(By.PARTIAL_LINK_TEXT,'Next')\n",
    "        next_page.click()\n",
    "    except:\n",
    "        break\n",
    "   "
   ]
  },
  {
   "cell_type": "code",
   "execution_count": 8,
   "id": "72e96965",
   "metadata": {
    "scrolled": true
   },
   "outputs": [
    {
     "name": "stdout",
     "output_type": "stream",
     "text": [
      "['https://quotes.toscrape.com/', 'https://quotes.toscrape.com/page/2/', 'https://quotes.toscrape.com/page/3/', 'https://quotes.toscrape.com/page/4/', 'https://quotes.toscrape.com/page/5/', 'https://quotes.toscrape.com/page/6/', 'https://quotes.toscrape.com/page/7/', 'https://quotes.toscrape.com/page/8/', 'https://quotes.toscrape.com/page/9/', 'https://quotes.toscrape.com/page/10/']\n"
     ]
    }
   ],
   "source": [
    "print(urls)"
   ]
  },
  {
   "cell_type": "code",
   "execution_count": 9,
   "id": "80131240",
   "metadata": {
    "scrolled": true
   },
   "outputs": [
    {
     "data": {
      "text/plain": [
       "10"
      ]
     },
     "execution_count": 9,
     "metadata": {},
     "output_type": "execute_result"
    }
   ],
   "source": [
    "len(urls)"
   ]
  },
  {
   "cell_type": "markdown",
   "id": "81e09d2d",
   "metadata": {},
   "source": [
    "La Web contiene un total de 10 páginas, hemos recogido sus links correspondientes en la lista 'urls'"
   ]
  },
  {
   "cell_type": "markdown",
   "id": "bd0bc519",
   "metadata": {},
   "source": [
    "## Lista de citas"
   ]
  },
  {
   "cell_type": "markdown",
   "id": "15c8a0e6",
   "metadata": {},
   "source": [
    "Recogemos el texto de las citas en la lista 'quote':"
   ]
  },
  {
   "cell_type": "code",
   "execution_count": 11,
   "id": "dee2c753",
   "metadata": {},
   "outputs": [],
   "source": [
    "quotes=driver.find_elements(By.CLASS_NAME,'text')"
   ]
  },
  {
   "cell_type": "code",
   "execution_count": 12,
   "id": "234316c1",
   "metadata": {},
   "outputs": [
    {
     "data": {
      "text/plain": [
       "['“The truth.\" Dumbledore sighed. \"It is a beautiful and terrible thing, and should therefore be treated with great caution.”',\n",
       " \"“I'm the one that's got to die when it's time for me to die, so let me live my life the way I want to.”\",\n",
       " '“To die will be an awfully big adventure.”',\n",
       " '“It takes courage to grow up and become who you really are.”',\n",
       " '“But better to get hurt by the truth than comforted with a lie.”',\n",
       " '“You never really understand a person until you consider things from his point of view... Until you climb inside of his skin and walk around in it.”',\n",
       " '“You have to write the book that wants to be written. And if the book will be too difficult for grown-ups, then you write it for children.”',\n",
       " '“Never tell the truth to people who are not worthy of it.”',\n",
       " \"“A person's a person, no matter how small.”\",\n",
       " '“... a mind needs books as a sword needs a whetstone, if it is to keep its edge.”',\n",
       " '“The truth.\" Dumbledore sighed. \"It is a beautiful and terrible thing, and should therefore be treated with great caution.”',\n",
       " \"“I'm the one that's got to die when it's time for me to die, so let me live my life the way I want to.”\",\n",
       " '“To die will be an awfully big adventure.”',\n",
       " '“It takes courage to grow up and become who you really are.”',\n",
       " '“But better to get hurt by the truth than comforted with a lie.”',\n",
       " '“You never really understand a person until you consider things from his point of view... Until you climb inside of his skin and walk around in it.”',\n",
       " '“You have to write the book that wants to be written. And if the book will be too difficult for grown-ups, then you write it for children.”',\n",
       " '“Never tell the truth to people who are not worthy of it.”',\n",
       " \"“A person's a person, no matter how small.”\",\n",
       " '“... a mind needs books as a sword needs a whetstone, if it is to keep its edge.”',\n",
       " '“The truth.\" Dumbledore sighed. \"It is a beautiful and terrible thing, and should therefore be treated with great caution.”',\n",
       " \"“I'm the one that's got to die when it's time for me to die, so let me live my life the way I want to.”\",\n",
       " '“To die will be an awfully big adventure.”',\n",
       " '“It takes courage to grow up and become who you really are.”',\n",
       " '“But better to get hurt by the truth than comforted with a lie.”',\n",
       " '“You never really understand a person until you consider things from his point of view... Until you climb inside of his skin and walk around in it.”',\n",
       " '“You have to write the book that wants to be written. And if the book will be too difficult for grown-ups, then you write it for children.”',\n",
       " '“Never tell the truth to people who are not worthy of it.”',\n",
       " \"“A person's a person, no matter how small.”\",\n",
       " '“... a mind needs books as a sword needs a whetstone, if it is to keep its edge.”',\n",
       " '“The truth.\" Dumbledore sighed. \"It is a beautiful and terrible thing, and should therefore be treated with great caution.”',\n",
       " \"“I'm the one that's got to die when it's time for me to die, so let me live my life the way I want to.”\",\n",
       " '“To die will be an awfully big adventure.”',\n",
       " '“It takes courage to grow up and become who you really are.”',\n",
       " '“But better to get hurt by the truth than comforted with a lie.”',\n",
       " '“You never really understand a person until you consider things from his point of view... Until you climb inside of his skin and walk around in it.”',\n",
       " '“You have to write the book that wants to be written. And if the book will be too difficult for grown-ups, then you write it for children.”',\n",
       " '“Never tell the truth to people who are not worthy of it.”',\n",
       " \"“A person's a person, no matter how small.”\",\n",
       " '“... a mind needs books as a sword needs a whetstone, if it is to keep its edge.”',\n",
       " '“The truth.\" Dumbledore sighed. \"It is a beautiful and terrible thing, and should therefore be treated with great caution.”',\n",
       " \"“I'm the one that's got to die when it's time for me to die, so let me live my life the way I want to.”\",\n",
       " '“To die will be an awfully big adventure.”',\n",
       " '“It takes courage to grow up and become who you really are.”',\n",
       " '“But better to get hurt by the truth than comforted with a lie.”',\n",
       " '“You never really understand a person until you consider things from his point of view... Until you climb inside of his skin and walk around in it.”',\n",
       " '“You have to write the book that wants to be written. And if the book will be too difficult for grown-ups, then you write it for children.”',\n",
       " '“Never tell the truth to people who are not worthy of it.”',\n",
       " \"“A person's a person, no matter how small.”\",\n",
       " '“... a mind needs books as a sword needs a whetstone, if it is to keep its edge.”',\n",
       " '“The truth.\" Dumbledore sighed. \"It is a beautiful and terrible thing, and should therefore be treated with great caution.”',\n",
       " \"“I'm the one that's got to die when it's time for me to die, so let me live my life the way I want to.”\",\n",
       " '“To die will be an awfully big adventure.”',\n",
       " '“It takes courage to grow up and become who you really are.”',\n",
       " '“But better to get hurt by the truth than comforted with a lie.”',\n",
       " '“You never really understand a person until you consider things from his point of view... Until you climb inside of his skin and walk around in it.”',\n",
       " '“You have to write the book that wants to be written. And if the book will be too difficult for grown-ups, then you write it for children.”',\n",
       " '“Never tell the truth to people who are not worthy of it.”',\n",
       " \"“A person's a person, no matter how small.”\",\n",
       " '“... a mind needs books as a sword needs a whetstone, if it is to keep its edge.”',\n",
       " '“The truth.\" Dumbledore sighed. \"It is a beautiful and terrible thing, and should therefore be treated with great caution.”',\n",
       " \"“I'm the one that's got to die when it's time for me to die, so let me live my life the way I want to.”\",\n",
       " '“To die will be an awfully big adventure.”',\n",
       " '“It takes courage to grow up and become who you really are.”',\n",
       " '“But better to get hurt by the truth than comforted with a lie.”',\n",
       " '“You never really understand a person until you consider things from his point of view... Until you climb inside of his skin and walk around in it.”',\n",
       " '“You have to write the book that wants to be written. And if the book will be too difficult for grown-ups, then you write it for children.”',\n",
       " '“Never tell the truth to people who are not worthy of it.”',\n",
       " \"“A person's a person, no matter how small.”\",\n",
       " '“... a mind needs books as a sword needs a whetstone, if it is to keep its edge.”',\n",
       " '“The truth.\" Dumbledore sighed. \"It is a beautiful and terrible thing, and should therefore be treated with great caution.”',\n",
       " \"“I'm the one that's got to die when it's time for me to die, so let me live my life the way I want to.”\",\n",
       " '“To die will be an awfully big adventure.”',\n",
       " '“It takes courage to grow up and become who you really are.”',\n",
       " '“But better to get hurt by the truth than comforted with a lie.”',\n",
       " '“You never really understand a person until you consider things from his point of view... Until you climb inside of his skin and walk around in it.”',\n",
       " '“You have to write the book that wants to be written. And if the book will be too difficult for grown-ups, then you write it for children.”',\n",
       " '“Never tell the truth to people who are not worthy of it.”',\n",
       " \"“A person's a person, no matter how small.”\",\n",
       " '“... a mind needs books as a sword needs a whetstone, if it is to keep its edge.”',\n",
       " '“The truth.\" Dumbledore sighed. \"It is a beautiful and terrible thing, and should therefore be treated with great caution.”',\n",
       " \"“I'm the one that's got to die when it's time for me to die, so let me live my life the way I want to.”\",\n",
       " '“To die will be an awfully big adventure.”',\n",
       " '“It takes courage to grow up and become who you really are.”',\n",
       " '“But better to get hurt by the truth than comforted with a lie.”',\n",
       " '“You never really understand a person until you consider things from his point of view... Until you climb inside of his skin and walk around in it.”',\n",
       " '“You have to write the book that wants to be written. And if the book will be too difficult for grown-ups, then you write it for children.”',\n",
       " '“Never tell the truth to people who are not worthy of it.”',\n",
       " \"“A person's a person, no matter how small.”\",\n",
       " '“... a mind needs books as a sword needs a whetstone, if it is to keep its edge.”',\n",
       " '“The truth.\" Dumbledore sighed. \"It is a beautiful and terrible thing, and should therefore be treated with great caution.”',\n",
       " \"“I'm the one that's got to die when it's time for me to die, so let me live my life the way I want to.”\",\n",
       " '“To die will be an awfully big adventure.”',\n",
       " '“It takes courage to grow up and become who you really are.”',\n",
       " '“But better to get hurt by the truth than comforted with a lie.”',\n",
       " '“You never really understand a person until you consider things from his point of view... Until you climb inside of his skin and walk around in it.”',\n",
       " '“You have to write the book that wants to be written. And if the book will be too difficult for grown-ups, then you write it for children.”',\n",
       " '“Never tell the truth to people who are not worthy of it.”',\n",
       " \"“A person's a person, no matter how small.”\",\n",
       " '“... a mind needs books as a sword needs a whetstone, if it is to keep its edge.”']"
      ]
     },
     "execution_count": 12,
     "metadata": {},
     "output_type": "execute_result"
    }
   ],
   "source": [
    "quote=[]\n",
    "for url in urls:\n",
    "    for e in quotes:\n",
    "        quote.append(e.text)\n",
    "quote"
   ]
  },
  {
   "cell_type": "code",
   "execution_count": 13,
   "id": "b54622cd",
   "metadata": {
    "scrolled": true
   },
   "outputs": [
    {
     "data": {
      "text/plain": [
       "100"
      ]
     },
     "execution_count": 13,
     "metadata": {},
     "output_type": "execute_result"
    }
   ],
   "source": [
    "len(quote)"
   ]
  },
  {
   "cell_type": "markdown",
   "id": "470f6a98",
   "metadata": {},
   "source": [
    "## Lista de autores"
   ]
  },
  {
   "cell_type": "markdown",
   "id": "2027c451",
   "metadata": {},
   "source": [
    "Recogemos el nombre del autor de cada cita en la lista 'author':"
   ]
  },
  {
   "cell_type": "code",
   "execution_count": 14,
   "id": "2da4bf75",
   "metadata": {},
   "outputs": [],
   "source": [
    "authors=driver.find_elements(By.CLASS_NAME,'author')"
   ]
  },
  {
   "cell_type": "code",
   "execution_count": 16,
   "id": "1439c11e",
   "metadata": {},
   "outputs": [
    {
     "data": {
      "text/plain": [
       "['J.K. Rowling',\n",
       " 'Jimi Hendrix',\n",
       " 'J.M. Barrie',\n",
       " 'E.E. Cummings',\n",
       " 'Khaled Hosseini',\n",
       " 'Harper Lee',\n",
       " \"Madeleine L'Engle\",\n",
       " 'Mark Twain',\n",
       " 'Dr. Seuss',\n",
       " 'George R.R. Martin',\n",
       " 'J.K. Rowling',\n",
       " 'Jimi Hendrix',\n",
       " 'J.M. Barrie',\n",
       " 'E.E. Cummings',\n",
       " 'Khaled Hosseini',\n",
       " 'Harper Lee',\n",
       " \"Madeleine L'Engle\",\n",
       " 'Mark Twain',\n",
       " 'Dr. Seuss',\n",
       " 'George R.R. Martin',\n",
       " 'J.K. Rowling',\n",
       " 'Jimi Hendrix',\n",
       " 'J.M. Barrie',\n",
       " 'E.E. Cummings',\n",
       " 'Khaled Hosseini',\n",
       " 'Harper Lee',\n",
       " \"Madeleine L'Engle\",\n",
       " 'Mark Twain',\n",
       " 'Dr. Seuss',\n",
       " 'George R.R. Martin',\n",
       " 'J.K. Rowling',\n",
       " 'Jimi Hendrix',\n",
       " 'J.M. Barrie',\n",
       " 'E.E. Cummings',\n",
       " 'Khaled Hosseini',\n",
       " 'Harper Lee',\n",
       " \"Madeleine L'Engle\",\n",
       " 'Mark Twain',\n",
       " 'Dr. Seuss',\n",
       " 'George R.R. Martin',\n",
       " 'J.K. Rowling',\n",
       " 'Jimi Hendrix',\n",
       " 'J.M. Barrie',\n",
       " 'E.E. Cummings',\n",
       " 'Khaled Hosseini',\n",
       " 'Harper Lee',\n",
       " \"Madeleine L'Engle\",\n",
       " 'Mark Twain',\n",
       " 'Dr. Seuss',\n",
       " 'George R.R. Martin',\n",
       " 'J.K. Rowling',\n",
       " 'Jimi Hendrix',\n",
       " 'J.M. Barrie',\n",
       " 'E.E. Cummings',\n",
       " 'Khaled Hosseini',\n",
       " 'Harper Lee',\n",
       " \"Madeleine L'Engle\",\n",
       " 'Mark Twain',\n",
       " 'Dr. Seuss',\n",
       " 'George R.R. Martin',\n",
       " 'J.K. Rowling',\n",
       " 'Jimi Hendrix',\n",
       " 'J.M. Barrie',\n",
       " 'E.E. Cummings',\n",
       " 'Khaled Hosseini',\n",
       " 'Harper Lee',\n",
       " \"Madeleine L'Engle\",\n",
       " 'Mark Twain',\n",
       " 'Dr. Seuss',\n",
       " 'George R.R. Martin',\n",
       " 'J.K. Rowling',\n",
       " 'Jimi Hendrix',\n",
       " 'J.M. Barrie',\n",
       " 'E.E. Cummings',\n",
       " 'Khaled Hosseini',\n",
       " 'Harper Lee',\n",
       " \"Madeleine L'Engle\",\n",
       " 'Mark Twain',\n",
       " 'Dr. Seuss',\n",
       " 'George R.R. Martin',\n",
       " 'J.K. Rowling',\n",
       " 'Jimi Hendrix',\n",
       " 'J.M. Barrie',\n",
       " 'E.E. Cummings',\n",
       " 'Khaled Hosseini',\n",
       " 'Harper Lee',\n",
       " \"Madeleine L'Engle\",\n",
       " 'Mark Twain',\n",
       " 'Dr. Seuss',\n",
       " 'George R.R. Martin',\n",
       " 'J.K. Rowling',\n",
       " 'Jimi Hendrix',\n",
       " 'J.M. Barrie',\n",
       " 'E.E. Cummings',\n",
       " 'Khaled Hosseini',\n",
       " 'Harper Lee',\n",
       " \"Madeleine L'Engle\",\n",
       " 'Mark Twain',\n",
       " 'Dr. Seuss',\n",
       " 'George R.R. Martin']"
      ]
     },
     "execution_count": 16,
     "metadata": {},
     "output_type": "execute_result"
    }
   ],
   "source": [
    "author=[]\n",
    "for url in urls:\n",
    "    for e in authors:\n",
    "        author.append(e.text)\n",
    "author        "
   ]
  },
  {
   "cell_type": "code",
   "execution_count": 17,
   "id": "32262936",
   "metadata": {},
   "outputs": [
    {
     "data": {
      "text/plain": [
       "100"
      ]
     },
     "execution_count": 17,
     "metadata": {},
     "output_type": "execute_result"
    }
   ],
   "source": [
    "len(author)"
   ]
  },
  {
   "cell_type": "markdown",
   "id": "a18be46f",
   "metadata": {},
   "source": [
    "## Lista de links"
   ]
  },
  {
   "cell_type": "markdown",
   "id": "29f10bf1",
   "metadata": {},
   "source": [
    "Recogemos las etiquetas atribuidas a cada cita en la lista 'tag':"
   ]
  },
  {
   "cell_type": "code",
   "execution_count": 18,
   "id": "83f4c922",
   "metadata": {},
   "outputs": [],
   "source": [
    "tags=driver.find_elements(By.CLASS_NAME,'keywords')"
   ]
  },
  {
   "cell_type": "code",
   "execution_count": 21,
   "id": "48992869",
   "metadata": {},
   "outputs": [
    {
     "data": {
      "text/plain": [
       "['truth',\n",
       " 'death,life',\n",
       " 'adventure,love',\n",
       " 'courage',\n",
       " 'life',\n",
       " 'better-life-empathy',\n",
       " 'books,children,difficult,grown-ups,write,writers,writing',\n",
       " 'truth',\n",
       " 'inspirational',\n",
       " 'books,mind',\n",
       " 'truth',\n",
       " 'death,life',\n",
       " 'adventure,love',\n",
       " 'courage',\n",
       " 'life',\n",
       " 'better-life-empathy',\n",
       " 'books,children,difficult,grown-ups,write,writers,writing',\n",
       " 'truth',\n",
       " 'inspirational',\n",
       " 'books,mind',\n",
       " 'truth',\n",
       " 'death,life',\n",
       " 'adventure,love',\n",
       " 'courage',\n",
       " 'life',\n",
       " 'better-life-empathy',\n",
       " 'books,children,difficult,grown-ups,write,writers,writing',\n",
       " 'truth',\n",
       " 'inspirational',\n",
       " 'books,mind',\n",
       " 'truth',\n",
       " 'death,life',\n",
       " 'adventure,love',\n",
       " 'courage',\n",
       " 'life',\n",
       " 'better-life-empathy',\n",
       " 'books,children,difficult,grown-ups,write,writers,writing',\n",
       " 'truth',\n",
       " 'inspirational',\n",
       " 'books,mind',\n",
       " 'truth',\n",
       " 'death,life',\n",
       " 'adventure,love',\n",
       " 'courage',\n",
       " 'life',\n",
       " 'better-life-empathy',\n",
       " 'books,children,difficult,grown-ups,write,writers,writing',\n",
       " 'truth',\n",
       " 'inspirational',\n",
       " 'books,mind',\n",
       " 'truth',\n",
       " 'death,life',\n",
       " 'adventure,love',\n",
       " 'courage',\n",
       " 'life',\n",
       " 'better-life-empathy',\n",
       " 'books,children,difficult,grown-ups,write,writers,writing',\n",
       " 'truth',\n",
       " 'inspirational',\n",
       " 'books,mind',\n",
       " 'truth',\n",
       " 'death,life',\n",
       " 'adventure,love',\n",
       " 'courage',\n",
       " 'life',\n",
       " 'better-life-empathy',\n",
       " 'books,children,difficult,grown-ups,write,writers,writing',\n",
       " 'truth',\n",
       " 'inspirational',\n",
       " 'books,mind',\n",
       " 'truth',\n",
       " 'death,life',\n",
       " 'adventure,love',\n",
       " 'courage',\n",
       " 'life',\n",
       " 'better-life-empathy',\n",
       " 'books,children,difficult,grown-ups,write,writers,writing',\n",
       " 'truth',\n",
       " 'inspirational',\n",
       " 'books,mind',\n",
       " 'truth',\n",
       " 'death,life',\n",
       " 'adventure,love',\n",
       " 'courage',\n",
       " 'life',\n",
       " 'better-life-empathy',\n",
       " 'books,children,difficult,grown-ups,write,writers,writing',\n",
       " 'truth',\n",
       " 'inspirational',\n",
       " 'books,mind',\n",
       " 'truth',\n",
       " 'death,life',\n",
       " 'adventure,love',\n",
       " 'courage',\n",
       " 'life',\n",
       " 'better-life-empathy',\n",
       " 'books,children,difficult,grown-ups,write,writers,writing',\n",
       " 'truth',\n",
       " 'inspirational',\n",
       " 'books,mind']"
      ]
     },
     "execution_count": 21,
     "metadata": {},
     "output_type": "execute_result"
    }
   ],
   "source": [
    "tag=[]\n",
    "for url in urls:\n",
    "    for e in tags:\n",
    "        tag.append(e.get_attribute('content'))\n",
    "tag"
   ]
  },
  {
   "cell_type": "code",
   "execution_count": 22,
   "id": "2cfb1d8a",
   "metadata": {
    "scrolled": true
   },
   "outputs": [
    {
     "data": {
      "text/plain": [
       "100"
      ]
     },
     "execution_count": 22,
     "metadata": {},
     "output_type": "execute_result"
    }
   ],
   "source": [
    "len(tag)"
   ]
  },
  {
   "cell_type": "markdown",
   "id": "beee0309",
   "metadata": {},
   "source": [
    "## Lista de links"
   ]
  },
  {
   "cell_type": "markdown",
   "id": "0e59f663",
   "metadata": {},
   "source": [
    "Recogemos los links a la biografía de cada autor en la lista 'autor_link':"
   ]
  },
  {
   "cell_type": "code",
   "execution_count": 23,
   "id": "1bc7ac6e",
   "metadata": {},
   "outputs": [
    {
     "data": {
      "text/plain": [
       "['https://quotes.toscrape.com/author/J-K-Rowling',\n",
       " 'https://quotes.toscrape.com/author/Jimi-Hendrix',\n",
       " 'https://quotes.toscrape.com/author/J-M-Barrie',\n",
       " 'https://quotes.toscrape.com/author/E-E-Cummings',\n",
       " 'https://quotes.toscrape.com/author/Khaled-Hosseini',\n",
       " 'https://quotes.toscrape.com/author/Harper-Lee',\n",
       " 'https://quotes.toscrape.com/author/Madeleine-LEngle',\n",
       " 'https://quotes.toscrape.com/author/Mark-Twain',\n",
       " 'https://quotes.toscrape.com/author/Dr-Seuss',\n",
       " 'https://quotes.toscrape.com/author/George-R-R-Martin',\n",
       " 'https://quotes.toscrape.com/author/J-K-Rowling',\n",
       " 'https://quotes.toscrape.com/author/Jimi-Hendrix',\n",
       " 'https://quotes.toscrape.com/author/J-M-Barrie',\n",
       " 'https://quotes.toscrape.com/author/E-E-Cummings',\n",
       " 'https://quotes.toscrape.com/author/Khaled-Hosseini',\n",
       " 'https://quotes.toscrape.com/author/Harper-Lee',\n",
       " 'https://quotes.toscrape.com/author/Madeleine-LEngle',\n",
       " 'https://quotes.toscrape.com/author/Mark-Twain',\n",
       " 'https://quotes.toscrape.com/author/Dr-Seuss',\n",
       " 'https://quotes.toscrape.com/author/George-R-R-Martin',\n",
       " 'https://quotes.toscrape.com/author/J-K-Rowling',\n",
       " 'https://quotes.toscrape.com/author/Jimi-Hendrix',\n",
       " 'https://quotes.toscrape.com/author/J-M-Barrie',\n",
       " 'https://quotes.toscrape.com/author/E-E-Cummings',\n",
       " 'https://quotes.toscrape.com/author/Khaled-Hosseini',\n",
       " 'https://quotes.toscrape.com/author/Harper-Lee',\n",
       " 'https://quotes.toscrape.com/author/Madeleine-LEngle',\n",
       " 'https://quotes.toscrape.com/author/Mark-Twain',\n",
       " 'https://quotes.toscrape.com/author/Dr-Seuss',\n",
       " 'https://quotes.toscrape.com/author/George-R-R-Martin',\n",
       " 'https://quotes.toscrape.com/author/J-K-Rowling',\n",
       " 'https://quotes.toscrape.com/author/Jimi-Hendrix',\n",
       " 'https://quotes.toscrape.com/author/J-M-Barrie',\n",
       " 'https://quotes.toscrape.com/author/E-E-Cummings',\n",
       " 'https://quotes.toscrape.com/author/Khaled-Hosseini',\n",
       " 'https://quotes.toscrape.com/author/Harper-Lee',\n",
       " 'https://quotes.toscrape.com/author/Madeleine-LEngle',\n",
       " 'https://quotes.toscrape.com/author/Mark-Twain',\n",
       " 'https://quotes.toscrape.com/author/Dr-Seuss',\n",
       " 'https://quotes.toscrape.com/author/George-R-R-Martin',\n",
       " 'https://quotes.toscrape.com/author/J-K-Rowling',\n",
       " 'https://quotes.toscrape.com/author/Jimi-Hendrix',\n",
       " 'https://quotes.toscrape.com/author/J-M-Barrie',\n",
       " 'https://quotes.toscrape.com/author/E-E-Cummings',\n",
       " 'https://quotes.toscrape.com/author/Khaled-Hosseini',\n",
       " 'https://quotes.toscrape.com/author/Harper-Lee',\n",
       " 'https://quotes.toscrape.com/author/Madeleine-LEngle',\n",
       " 'https://quotes.toscrape.com/author/Mark-Twain',\n",
       " 'https://quotes.toscrape.com/author/Dr-Seuss',\n",
       " 'https://quotes.toscrape.com/author/George-R-R-Martin',\n",
       " 'https://quotes.toscrape.com/author/J-K-Rowling',\n",
       " 'https://quotes.toscrape.com/author/Jimi-Hendrix',\n",
       " 'https://quotes.toscrape.com/author/J-M-Barrie',\n",
       " 'https://quotes.toscrape.com/author/E-E-Cummings',\n",
       " 'https://quotes.toscrape.com/author/Khaled-Hosseini',\n",
       " 'https://quotes.toscrape.com/author/Harper-Lee',\n",
       " 'https://quotes.toscrape.com/author/Madeleine-LEngle',\n",
       " 'https://quotes.toscrape.com/author/Mark-Twain',\n",
       " 'https://quotes.toscrape.com/author/Dr-Seuss',\n",
       " 'https://quotes.toscrape.com/author/George-R-R-Martin',\n",
       " 'https://quotes.toscrape.com/author/J-K-Rowling',\n",
       " 'https://quotes.toscrape.com/author/Jimi-Hendrix',\n",
       " 'https://quotes.toscrape.com/author/J-M-Barrie',\n",
       " 'https://quotes.toscrape.com/author/E-E-Cummings',\n",
       " 'https://quotes.toscrape.com/author/Khaled-Hosseini',\n",
       " 'https://quotes.toscrape.com/author/Harper-Lee',\n",
       " 'https://quotes.toscrape.com/author/Madeleine-LEngle',\n",
       " 'https://quotes.toscrape.com/author/Mark-Twain',\n",
       " 'https://quotes.toscrape.com/author/Dr-Seuss',\n",
       " 'https://quotes.toscrape.com/author/George-R-R-Martin',\n",
       " 'https://quotes.toscrape.com/author/J-K-Rowling',\n",
       " 'https://quotes.toscrape.com/author/Jimi-Hendrix',\n",
       " 'https://quotes.toscrape.com/author/J-M-Barrie',\n",
       " 'https://quotes.toscrape.com/author/E-E-Cummings',\n",
       " 'https://quotes.toscrape.com/author/Khaled-Hosseini',\n",
       " 'https://quotes.toscrape.com/author/Harper-Lee',\n",
       " 'https://quotes.toscrape.com/author/Madeleine-LEngle',\n",
       " 'https://quotes.toscrape.com/author/Mark-Twain',\n",
       " 'https://quotes.toscrape.com/author/Dr-Seuss',\n",
       " 'https://quotes.toscrape.com/author/George-R-R-Martin',\n",
       " 'https://quotes.toscrape.com/author/J-K-Rowling',\n",
       " 'https://quotes.toscrape.com/author/Jimi-Hendrix',\n",
       " 'https://quotes.toscrape.com/author/J-M-Barrie',\n",
       " 'https://quotes.toscrape.com/author/E-E-Cummings',\n",
       " 'https://quotes.toscrape.com/author/Khaled-Hosseini',\n",
       " 'https://quotes.toscrape.com/author/Harper-Lee',\n",
       " 'https://quotes.toscrape.com/author/Madeleine-LEngle',\n",
       " 'https://quotes.toscrape.com/author/Mark-Twain',\n",
       " 'https://quotes.toscrape.com/author/Dr-Seuss',\n",
       " 'https://quotes.toscrape.com/author/George-R-R-Martin',\n",
       " 'https://quotes.toscrape.com/author/J-K-Rowling',\n",
       " 'https://quotes.toscrape.com/author/Jimi-Hendrix',\n",
       " 'https://quotes.toscrape.com/author/J-M-Barrie',\n",
       " 'https://quotes.toscrape.com/author/E-E-Cummings',\n",
       " 'https://quotes.toscrape.com/author/Khaled-Hosseini',\n",
       " 'https://quotes.toscrape.com/author/Harper-Lee',\n",
       " 'https://quotes.toscrape.com/author/Madeleine-LEngle',\n",
       " 'https://quotes.toscrape.com/author/Mark-Twain',\n",
       " 'https://quotes.toscrape.com/author/Dr-Seuss',\n",
       " 'https://quotes.toscrape.com/author/George-R-R-Martin']"
      ]
     },
     "execution_count": 23,
     "metadata": {},
     "output_type": "execute_result"
    }
   ],
   "source": [
    "author_link=[]\n",
    "for url in urls:\n",
    "    for e in driver.find_elements(By.TAG_NAME,'a'):\n",
    "        if 'author' in e.get_attribute('href'):\n",
    "            author_link.append(e.get_attribute('href'))\n",
    "author_link"
   ]
  },
  {
   "cell_type": "code",
   "execution_count": 24,
   "id": "95f60acf",
   "metadata": {},
   "outputs": [
    {
     "data": {
      "text/plain": [
       "100"
      ]
     },
     "execution_count": 24,
     "metadata": {},
     "output_type": "execute_result"
    }
   ],
   "source": [
    "len(author_link)"
   ]
  },
  {
   "cell_type": "code",
   "execution_count": 25,
   "id": "7c59fb3d",
   "metadata": {
    "scrolled": true
   },
   "outputs": [
    {
     "data": {
      "text/plain": [
       "<bound method ChromiumDriver.quit of <selenium.webdriver.chrome.webdriver.WebDriver (session=\"141fb23ee33d8e1607be6b59e1183d2a\")>>"
      ]
     },
     "execution_count": 25,
     "metadata": {},
     "output_type": "execute_result"
    }
   ],
   "source": [
    "driver.quit"
   ]
  },
  {
   "cell_type": "markdown",
   "id": "15021f04",
   "metadata": {},
   "source": [
    "## CONSTRUCCION DEL DATASET"
   ]
  },
  {
   "cell_type": "code",
   "execution_count": 26,
   "id": "df7b1918",
   "metadata": {},
   "outputs": [],
   "source": [
    "df = pd.DataFrame(dict(quote=quote, tag=tag, author=author,author_link=author_link))"
   ]
  },
  {
   "cell_type": "code",
   "execution_count": 27,
   "id": "bf18d857",
   "metadata": {
    "scrolled": true
   },
   "outputs": [
    {
     "data": {
      "text/html": [
       "<div>\n",
       "<style scoped>\n",
       "    .dataframe tbody tr th:only-of-type {\n",
       "        vertical-align: middle;\n",
       "    }\n",
       "\n",
       "    .dataframe tbody tr th {\n",
       "        vertical-align: top;\n",
       "    }\n",
       "\n",
       "    .dataframe thead th {\n",
       "        text-align: right;\n",
       "    }\n",
       "</style>\n",
       "<table border=\"1\" class=\"dataframe\">\n",
       "  <thead>\n",
       "    <tr style=\"text-align: right;\">\n",
       "      <th></th>\n",
       "      <th>quote</th>\n",
       "      <th>tag</th>\n",
       "      <th>author</th>\n",
       "      <th>author_link</th>\n",
       "    </tr>\n",
       "  </thead>\n",
       "  <tbody>\n",
       "    <tr>\n",
       "      <th>0</th>\n",
       "      <td>“The truth.\" Dumbledore sighed. \"It is a beaut...</td>\n",
       "      <td>truth</td>\n",
       "      <td>J.K. Rowling</td>\n",
       "      <td>https://quotes.toscrape.com/author/J-K-Rowling</td>\n",
       "    </tr>\n",
       "    <tr>\n",
       "      <th>1</th>\n",
       "      <td>“I'm the one that's got to die when it's time ...</td>\n",
       "      <td>death,life</td>\n",
       "      <td>Jimi Hendrix</td>\n",
       "      <td>https://quotes.toscrape.com/author/Jimi-Hendrix</td>\n",
       "    </tr>\n",
       "    <tr>\n",
       "      <th>2</th>\n",
       "      <td>“To die will be an awfully big adventure.”</td>\n",
       "      <td>adventure,love</td>\n",
       "      <td>J.M. Barrie</td>\n",
       "      <td>https://quotes.toscrape.com/author/J-M-Barrie</td>\n",
       "    </tr>\n",
       "    <tr>\n",
       "      <th>3</th>\n",
       "      <td>“It takes courage to grow up and become who yo...</td>\n",
       "      <td>courage</td>\n",
       "      <td>E.E. Cummings</td>\n",
       "      <td>https://quotes.toscrape.com/author/E-E-Cummings</td>\n",
       "    </tr>\n",
       "    <tr>\n",
       "      <th>4</th>\n",
       "      <td>“But better to get hurt by the truth than comf...</td>\n",
       "      <td>life</td>\n",
       "      <td>Khaled Hosseini</td>\n",
       "      <td>https://quotes.toscrape.com/author/Khaled-Hoss...</td>\n",
       "    </tr>\n",
       "    <tr>\n",
       "      <th>...</th>\n",
       "      <td>...</td>\n",
       "      <td>...</td>\n",
       "      <td>...</td>\n",
       "      <td>...</td>\n",
       "    </tr>\n",
       "    <tr>\n",
       "      <th>95</th>\n",
       "      <td>“You never really understand a person until yo...</td>\n",
       "      <td>better-life-empathy</td>\n",
       "      <td>Harper Lee</td>\n",
       "      <td>https://quotes.toscrape.com/author/Harper-Lee</td>\n",
       "    </tr>\n",
       "    <tr>\n",
       "      <th>96</th>\n",
       "      <td>“You have to write the book that wants to be w...</td>\n",
       "      <td>books,children,difficult,grown-ups,write,write...</td>\n",
       "      <td>Madeleine L'Engle</td>\n",
       "      <td>https://quotes.toscrape.com/author/Madeleine-L...</td>\n",
       "    </tr>\n",
       "    <tr>\n",
       "      <th>97</th>\n",
       "      <td>“Never tell the truth to people who are not wo...</td>\n",
       "      <td>truth</td>\n",
       "      <td>Mark Twain</td>\n",
       "      <td>https://quotes.toscrape.com/author/Mark-Twain</td>\n",
       "    </tr>\n",
       "    <tr>\n",
       "      <th>98</th>\n",
       "      <td>“A person's a person, no matter how small.”</td>\n",
       "      <td>inspirational</td>\n",
       "      <td>Dr. Seuss</td>\n",
       "      <td>https://quotes.toscrape.com/author/Dr-Seuss</td>\n",
       "    </tr>\n",
       "    <tr>\n",
       "      <th>99</th>\n",
       "      <td>“... a mind needs books as a sword needs a whe...</td>\n",
       "      <td>books,mind</td>\n",
       "      <td>George R.R. Martin</td>\n",
       "      <td>https://quotes.toscrape.com/author/George-R-R-...</td>\n",
       "    </tr>\n",
       "  </tbody>\n",
       "</table>\n",
       "<p>100 rows × 4 columns</p>\n",
       "</div>"
      ],
      "text/plain": [
       "                                                quote  \\\n",
       "0   “The truth.\" Dumbledore sighed. \"It is a beaut...   \n",
       "1   “I'm the one that's got to die when it's time ...   \n",
       "2          “To die will be an awfully big adventure.”   \n",
       "3   “It takes courage to grow up and become who yo...   \n",
       "4   “But better to get hurt by the truth than comf...   \n",
       "..                                                ...   \n",
       "95  “You never really understand a person until yo...   \n",
       "96  “You have to write the book that wants to be w...   \n",
       "97  “Never tell the truth to people who are not wo...   \n",
       "98        “A person's a person, no matter how small.”   \n",
       "99  “... a mind needs books as a sword needs a whe...   \n",
       "\n",
       "                                                  tag              author  \\\n",
       "0                                               truth        J.K. Rowling   \n",
       "1                                          death,life        Jimi Hendrix   \n",
       "2                                      adventure,love         J.M. Barrie   \n",
       "3                                             courage       E.E. Cummings   \n",
       "4                                                life     Khaled Hosseini   \n",
       "..                                                ...                 ...   \n",
       "95                                better-life-empathy          Harper Lee   \n",
       "96  books,children,difficult,grown-ups,write,write...   Madeleine L'Engle   \n",
       "97                                              truth          Mark Twain   \n",
       "98                                      inspirational           Dr. Seuss   \n",
       "99                                         books,mind  George R.R. Martin   \n",
       "\n",
       "                                          author_link  \n",
       "0      https://quotes.toscrape.com/author/J-K-Rowling  \n",
       "1     https://quotes.toscrape.com/author/Jimi-Hendrix  \n",
       "2       https://quotes.toscrape.com/author/J-M-Barrie  \n",
       "3     https://quotes.toscrape.com/author/E-E-Cummings  \n",
       "4   https://quotes.toscrape.com/author/Khaled-Hoss...  \n",
       "..                                                ...  \n",
       "95      https://quotes.toscrape.com/author/Harper-Lee  \n",
       "96  https://quotes.toscrape.com/author/Madeleine-L...  \n",
       "97      https://quotes.toscrape.com/author/Mark-Twain  \n",
       "98        https://quotes.toscrape.com/author/Dr-Seuss  \n",
       "99  https://quotes.toscrape.com/author/George-R-R-...  \n",
       "\n",
       "[100 rows x 4 columns]"
      ]
     },
     "execution_count": 27,
     "metadata": {},
     "output_type": "execute_result"
    }
   ],
   "source": [
    "df"
   ]
  },
  {
   "cell_type": "code",
   "execution_count": 28,
   "id": "8406df4e",
   "metadata": {},
   "outputs": [
    {
     "name": "stdout",
     "output_type": "stream",
     "text": [
      "<class 'pandas.core.frame.DataFrame'>\n",
      "RangeIndex: 100 entries, 0 to 99\n",
      "Data columns (total 4 columns):\n",
      " #   Column       Non-Null Count  Dtype \n",
      "---  ------       --------------  ----- \n",
      " 0   quote        100 non-null    object\n",
      " 1   tag          100 non-null    object\n",
      " 2   author       100 non-null    object\n",
      " 3   author_link  100 non-null    object\n",
      "dtypes: object(4)\n",
      "memory usage: 3.2+ KB\n"
     ]
    }
   ],
   "source": [
    "df.info()"
   ]
  },
  {
   "cell_type": "code",
   "execution_count": 29,
   "id": "29077ab1",
   "metadata": {},
   "outputs": [],
   "source": [
    "df.to_csv('Quotes_to_scrape.csv')"
   ]
  },
  {
   "cell_type": "code",
   "execution_count": null,
   "id": "d1e69c69",
   "metadata": {},
   "outputs": [],
   "source": []
  }
 ],
 "metadata": {
  "kernelspec": {
   "display_name": "Python 3 (ipykernel)",
   "language": "python",
   "name": "python3"
  },
  "language_info": {
   "codemirror_mode": {
    "name": "ipython",
    "version": 3
   },
   "file_extension": ".py",
   "mimetype": "text/x-python",
   "name": "python",
   "nbconvert_exporter": "python",
   "pygments_lexer": "ipython3",
   "version": "3.9.13"
  }
 },
 "nbformat": 4,
 "nbformat_minor": 5
}

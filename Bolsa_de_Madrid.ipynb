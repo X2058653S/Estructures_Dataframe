{
 "cells": [
  {
   "cell_type": "markdown",
   "id": "29d45fff",
   "metadata": {},
   "source": [
    "## EXERCICI 1 : BOLSA DE MADRID"
   ]
  },
  {
   "cell_type": "markdown",
   "id": "7445ebc0",
   "metadata": {},
   "source": [
    "En este ejercicio nos planteamos extraer, con la ayuda de Selenium, información de la web https://www.bolsasymercados.es/bme-exchange/es/Bolsa-Madrid"
   ]
  },
  {
   "cell_type": "code",
   "execution_count": 1,
   "id": "7972caed",
   "metadata": {},
   "outputs": [],
   "source": [
    "import selenium\n",
    "from selenium import webdriver\n",
    "from selenium.webdriver import Chrome\n",
    "from selenium.webdriver.common.by import By\n",
    "import pandas as pd"
   ]
  },
  {
   "cell_type": "code",
   "execution_count": 2,
   "id": "8305e860",
   "metadata": {},
   "outputs": [],
   "source": [
    "driver=webdriver.Chrome()"
   ]
  },
  {
   "cell_type": "code",
   "execution_count": 3,
   "id": "b72d03fb",
   "metadata": {},
   "outputs": [],
   "source": [
    "driver.get('https://www.bolsasymercados.es/bme-exchange/es/Bolsa-Madrid')"
   ]
  },
  {
   "cell_type": "markdown",
   "id": "54e9326a",
   "metadata": {},
   "source": [
    "## ANALISIS EXPLORATORIO DE LA WEB"
   ]
  },
  {
   "cell_type": "markdown",
   "id": "aa076444",
   "metadata": {},
   "source": [
    "Se trata de la Web de la Bolsa de Madrid que proporciona mucha información organizada en secciones en una barra de navegación.\n",
    "\n",
    "Nos parece interesante centrarnos en el apartado de 'Indices', que proporciona la última cotización de todos los indices de los valores que cotizan en la Bolsa de Madrid."
   ]
  },
  {
   "cell_type": "markdown",
   "id": "3b094a57",
   "metadata": {},
   "source": [
    "En un primer lugar accederemos a la página de nuestro interés accionando una serie de botones y links:"
   ]
  },
  {
   "cell_type": "code",
   "execution_count": 4,
   "id": "0418e044",
   "metadata": {},
   "outputs": [],
   "source": [
    "driver.find_element(By.XPATH,'//*[@id=\"top-menu-movil\"]/li[2]/button').click()"
   ]
  },
  {
   "cell_type": "code",
   "execution_count": 5,
   "id": "8493f325",
   "metadata": {},
   "outputs": [],
   "source": [
    "driver.find_element(By.XPATH,'//*[@id=\"navbar-menu\"]/li[3]/a').click()"
   ]
  },
  {
   "cell_type": "code",
   "execution_count": 6,
   "id": "899d45ed",
   "metadata": {},
   "outputs": [],
   "source": [
    "driver.find_element(By.XPATH,'//*[@id=\"navbar-menu\"]/li[3]/ul/li/div[2]/div[1]/ul[1]/li/a').click()"
   ]
  },
  {
   "cell_type": "markdown",
   "id": "4c892e1f",
   "metadata": {},
   "source": [
    "Hemos accedido a la página https://www.bolsasymercados.es/bme-exchange/es/Indices/Resumen.\n",
    "\n"
   ]
  },
  {
   "cell_type": "code",
   "execution_count": 37,
   "id": "241cdd84",
   "metadata": {},
   "outputs": [
    {
     "name": "stdout",
     "output_type": "stream",
     "text": [
      "Resumen de Índices | BME Exchange\n"
     ]
    }
   ],
   "source": [
    "print(driver.title)"
   ]
  },
  {
   "cell_type": "code",
   "execution_count": 7,
   "id": "0d4bff4d",
   "metadata": {},
   "outputs": [
    {
     "name": "stdout",
     "output_type": "stream",
     "text": [
      "Resumen de Índices\n"
     ]
    }
   ],
   "source": [
    "print(driver.find_element(By.TAG_NAME,'h1').text)"
   ]
  },
  {
   "cell_type": "code",
   "execution_count": 8,
   "id": "9cf73948",
   "metadata": {
    "scrolled": true
   },
   "outputs": [
    {
     "data": {
      "text/plain": [
       "[<selenium.webdriver.remote.webelement.WebElement (session=\"4ed30a6708cdc88c3a21241ee4662383\", element=\"23bff6a0-4b90-4790-99a2-7ce0e962627a\")>,\n",
       " <selenium.webdriver.remote.webelement.WebElement (session=\"4ed30a6708cdc88c3a21241ee4662383\", element=\"1f0a0feb-6ff9-4a50-a26b-29e1882a7c7d\")>,\n",
       " <selenium.webdriver.remote.webelement.WebElement (session=\"4ed30a6708cdc88c3a21241ee4662383\", element=\"8d5eb919-4ee6-49db-9d5a-cb6ff1156372\")>,\n",
       " <selenium.webdriver.remote.webelement.WebElement (session=\"4ed30a6708cdc88c3a21241ee4662383\", element=\"f23a6906-ba67-49e1-aed3-6cca4dcf5077\")>,\n",
       " <selenium.webdriver.remote.webelement.WebElement (session=\"4ed30a6708cdc88c3a21241ee4662383\", element=\"3b43e321-2149-4557-833b-5d7ff5205926\")>]"
      ]
     },
     "execution_count": 8,
     "metadata": {},
     "output_type": "execute_result"
    }
   ],
   "source": [
    "elements=driver.find_elements(By.TAG_NAME,'h2')\n",
    "elements"
   ]
  },
  {
   "cell_type": "code",
   "execution_count": 35,
   "id": "bd7f8e36",
   "metadata": {
    "scrolled": true
   },
   "outputs": [
    {
     "name": "stdout",
     "output_type": "stream",
     "text": [
      "Índices de Renta Variable\n",
      "Índices de Renta Fija\n",
      "Índices RODE (Rendimiento de Operaciones Deuda Estado) Diarios\n",
      "Índices RODE (Rendimiento de Operaciones Deuda Estado) Mensuales\n",
      "\n"
     ]
    }
   ],
   "source": [
    "for e in elements:\n",
    "    print(e.text)"
   ]
  },
  {
   "cell_type": "markdown",
   "id": "f6763a7e",
   "metadata": {},
   "source": [
    "Esta página recoge la última cotización de los índices, en este caso el 06 de abril 2023 al cierre (17:38).\n",
    "\n",
    "Contiene 4 secciones :  \n",
    "- Índices de Renta Variable\n",
    "- Índices de Renta Fija\n",
    "- Índices RODE (Rendimiento de Operaciones Deuda Estado) Diarios\n",
    "- Índices RODE (Rendimiento de Operaciones Deuda Estado) Mensuales\n",
    "\n",
    "Cada sección contiene una tabla que recoge datos acerca de la cotización de cada uno de los índices que pertenecen a esta categoría."
   ]
  },
  {
   "cell_type": "markdown",
   "id": "b96ad04a",
   "metadata": {},
   "source": [
    "## PLANTEAMIENTO"
   ]
  },
  {
   "cell_type": "markdown",
   "id": "f40add22",
   "metadata": {},
   "source": [
    "Nos proponemos recuperar y plasmar en un dataset para su posterior explotación cada una de las 4 tablas que ofrece la página 'Indices/Resumen'."
   ]
  },
  {
   "cell_type": "markdown",
   "id": "03a71071",
   "metadata": {},
   "source": [
    "## Análisis de la tabla 'Indices de Renta Variable'"
   ]
  },
  {
   "cell_type": "markdown",
   "id": "a2bfabba",
   "metadata": {},
   "source": [
    "Para ello vamos a localizar los elementos a través de su XPATH:"
   ]
  },
  {
   "cell_type": "code",
   "execution_count": 9,
   "id": "23ae1efa",
   "metadata": {},
   "outputs": [
    {
     "name": "stdout",
     "output_type": "stream",
     "text": [
      "Índices de Renta Variable\n"
     ]
    }
   ],
   "source": [
    "print(driver.find_element(By.XPATH,'//*[@id=\"root\"]/h2[1]').text)"
   ]
  },
  {
   "cell_type": "code",
   "execution_count": 10,
   "id": "fe312035",
   "metadata": {
    "scrolled": true
   },
   "outputs": [
    {
     "name": "stdout",
     "output_type": "stream",
     "text": [
      "IBEX 35®\n"
     ]
    }
   ],
   "source": [
    "print(driver.find_element(By.XPATH,'//*[@id=\"root\"]/div[2]/table/tbody/tr[1]/td[1]').text)"
   ]
  },
  {
   "cell_type": "code",
   "execution_count": 40,
   "id": "883b8f35",
   "metadata": {},
   "outputs": [
    {
     "data": {
      "text/plain": [
       "85"
      ]
     },
     "execution_count": 40,
     "metadata": {},
     "output_type": "execute_result"
    }
   ],
   "source": [
    "rows=len(driver.find_elements(By.XPATH,'//*[@id=\"root\"]/div[2]/table/tbody/tr'))\n",
    "rows"
   ]
  },
  {
   "cell_type": "code",
   "execution_count": 12,
   "id": "2e76ad51",
   "metadata": {},
   "outputs": [
    {
     "data": {
      "text/plain": [
       "8"
      ]
     },
     "execution_count": 12,
     "metadata": {},
     "output_type": "execute_result"
    }
   ],
   "source": [
    "columns=len(driver.find_elements(By.XPATH,'//*[@id=\"root\"]/div[2]/table/tbody/tr[2]/td'))\n",
    "columns"
   ]
  },
  {
   "cell_type": "markdown",
   "id": "e5515a23",
   "metadata": {},
   "source": [
    "Vemos que se trata de una tabla que contiene 85 filas y 8 columnas (encabezados de columnas no incluidos)."
   ]
  },
  {
   "cell_type": "markdown",
   "id": "0520e2da",
   "metadata": {},
   "source": [
    "## Creación de la primera columna"
   ]
  },
  {
   "cell_type": "markdown",
   "id": "1691e1b0",
   "metadata": {},
   "source": [
    "Generamos una lista que contenga los datos de la primer columna, 'column1'"
   ]
  },
  {
   "cell_type": "code",
   "execution_count": 13,
   "id": "dce32c86",
   "metadata": {},
   "outputs": [],
   "source": [
    "before_XPath =' //*[@id=\"root\"]/div[2]/table/tbody/tr['\n",
    "aftertd_XPath= \"]/td[\""
   ]
  },
  {
   "cell_type": "code",
   "execution_count": 14,
   "id": "c18562e7",
   "metadata": {
    "scrolled": true
   },
   "outputs": [
    {
     "data": {
      "text/plain": [
       "['IBEX 35®',\n",
       " 'IBEX 35® con Dividendos',\n",
       " 'IBEX MEDIUM CAP®',\n",
       " 'IBEX SMALL CAP®',\n",
       " 'IBEX 35® Bancos',\n",
       " 'IBEX 35® Energía',\n",
       " 'IBEX 35® Construcción',\n",
       " 'IBEX Gender Equality',\n",
       " 'IBEX Gender Equality Total Return',\n",
       " 'IBEX Gender Equality Net Return',\n",
       " 'IBEX TOP Dividendo®',\n",
       " 'IBEX 35® con Dividendos Netos',\n",
       " 'IBEX 35® Inverso',\n",
       " 'IBEX 35® Doble Inverso',\n",
       " 'IBEX 35® Inverso X3',\n",
       " 'IBEX 35® Inverso X5',\n",
       " 'IBEX 35® Inverso X10',\n",
       " 'IBEX 35® Doble Apalancado',\n",
       " 'IBEX 35® Doble Apalancado Bruto',\n",
       " 'IBEX 35® Doble Apalancado Neto',\n",
       " 'IBEX 35® Apalancado X3',\n",
       " 'IBEX 35® Apalancado Neto X3',\n",
       " 'IBEX 35® Apalancado Neto X5',\n",
       " 'IBEX 35® Apalancado Neto X10',\n",
       " 'IBEX 35® Capped Net Return',\n",
       " 'IBEX 35® Impacto Div',\n",
       " 'IBEX 35® Volatilidad Objetivo 10% Estándar',\n",
       " 'IBEX 35® Volatilidad Objetivo 12% Estándar',\n",
       " 'IBEX 35® Volatilidad Objetivo 15% Estándar',\n",
       " 'IBEX 35® Volatilidad Objetivo 18% Estándar',\n",
       " 'IBEX 35® Volatilidad Objetivo 10% Financiado',\n",
       " 'IBEX 35® Volatilidad Objetivo 12% Financiado',\n",
       " 'IBEX 35® Volatilidad Objetivo 15% Financiado',\n",
       " 'IBEX 35® Volatilidad Objetivo 18% Financiado',\n",
       " 'VIBEX®',\n",
       " 'IBEX 35® Skew',\n",
       " 'IBEX 35® BuyWrite',\n",
       " 'IBEX 35® PutWrite',\n",
       " 'IBEX 35® Protective Put',\n",
       " 'IBEX 35® Venta de Strangle',\n",
       " 'IBEX 35® TR Decrement 4,5%',\n",
       " 'IBEX 35® TR Decrement 5%',\n",
       " 'IBEX 35® TR Decrement 400P',\n",
       " 'IBEX 35® TR Decrement 450P',\n",
       " 'IBEX TOP Dividendo® Rentabilidad',\n",
       " 'IBEX TOP Dividendo® Rentabilidad Neta',\n",
       " 'IBEX MEDIUM CAP® con Dividendos',\n",
       " 'IBEX MEDIUM CAP® con Dividendos Netos',\n",
       " 'IBEX SMALL CAP® con Dividendos',\n",
       " 'IBEX SMALL CAP® con Dividendos Netos',\n",
       " 'IBEX Growth Market® 15',\n",
       " 'IBEX Growth Market® All Share',\n",
       " 'FTSE4Good IBEX',\n",
       " 'FTSE4Good IBEX Total Return',\n",
       " 'FTSE4Good IBEX Net Return',\n",
       " 'Latibex AS',\n",
       " 'Latibex TOP',\n",
       " 'Latibex BRASIL',\n",
       " 'I.G.B.M.',\n",
       " 'I.G.B.M. Total',\n",
       " 'BCN GLOBAL 100 (Base 1986)',\n",
       " 'BCN GLOBAL 100 (Base 1963)',\n",
       " 'BCN MID 50',\n",
       " 'BCN PROFIT-30',\n",
       " 'BCN ROE-30',\n",
       " 'BCN PER-30',\n",
       " 'BCN INDEXCAT',\n",
       " 'I.BILBAO 2000',\n",
       " 'I.G.B.V.',\n",
       " 'Índice TEF Apalancado X3',\n",
       " 'Índice SAN Apalancado X3',\n",
       " 'Índice BBVA Apalancado X3',\n",
       " 'Índice ITX Apalancado X3',\n",
       " 'Índice TEF Apalancado X5',\n",
       " 'Índice SAN Apalancado X5',\n",
       " 'Índice BBVA Apalancado X5',\n",
       " 'Índice ITX Apalancado X5',\n",
       " 'Índice TEF Inverso X3',\n",
       " 'Índice SAN Inverso X3',\n",
       " 'Índice BBVA Inverso X3',\n",
       " 'Índice ITX Inverso X3',\n",
       " 'Índice TEF Inverso X5',\n",
       " 'Índice SAN Inverso X5',\n",
       " 'Índice BBVA Inverso X5',\n",
       " 'Índice ITX Inverso X5']"
      ]
     },
     "execution_count": 14,
     "metadata": {},
     "output_type": "execute_result"
    }
   ],
   "source": [
    "column1=[]\n",
    "for t_row in range(1, (rows + 1)):\n",
    "    FinalXPath = before_XPath + str(t_row) + aftertd_XPath+str(1)+']'\n",
    "    column1.append(driver.find_element(By.XPATH,FinalXPath).text)\n",
    "column1"
   ]
  },
  {
   "cell_type": "markdown",
   "id": "ed5bfac7",
   "metadata": {},
   "source": [
    "## Creación de una función para generar la totalidad de las columnas"
   ]
  },
  {
   "cell_type": "code",
   "execution_count": 15,
   "id": "c5070b56",
   "metadata": {},
   "outputs": [],
   "source": [
    "def my_function(x):\n",
    "    column=[]\n",
    "    for t_row in range(1, (rows + 1)):\n",
    "        FinalXPath = before_XPath + str(t_row) + aftertd_XPath+str(x)+']'\n",
    "        column.append(driver.find_element(By.XPATH,FinalXPath).text)\n",
    "    return column\n",
    "  "
   ]
  },
  {
   "cell_type": "code",
   "execution_count": 16,
   "id": "c08765a5",
   "metadata": {},
   "outputs": [
    {
     "data": {
      "text/plain": [
       "[['IBEX 35®',\n",
       "  'IBEX 35® con Dividendos',\n",
       "  'IBEX MEDIUM CAP®',\n",
       "  'IBEX SMALL CAP®',\n",
       "  'IBEX 35® Bancos',\n",
       "  'IBEX 35® Energía',\n",
       "  'IBEX 35® Construcción',\n",
       "  'IBEX Gender Equality',\n",
       "  'IBEX Gender Equality Total Return',\n",
       "  'IBEX Gender Equality Net Return',\n",
       "  'IBEX TOP Dividendo®',\n",
       "  'IBEX 35® con Dividendos Netos',\n",
       "  'IBEX 35® Inverso',\n",
       "  'IBEX 35® Doble Inverso',\n",
       "  'IBEX 35® Inverso X3',\n",
       "  'IBEX 35® Inverso X5',\n",
       "  'IBEX 35® Inverso X10',\n",
       "  'IBEX 35® Doble Apalancado',\n",
       "  'IBEX 35® Doble Apalancado Bruto',\n",
       "  'IBEX 35® Doble Apalancado Neto',\n",
       "  'IBEX 35® Apalancado X3',\n",
       "  'IBEX 35® Apalancado Neto X3',\n",
       "  'IBEX 35® Apalancado Neto X5',\n",
       "  'IBEX 35® Apalancado Neto X10',\n",
       "  'IBEX 35® Capped Net Return',\n",
       "  'IBEX 35® Impacto Div',\n",
       "  'IBEX 35® Volatilidad Objetivo 10% Estándar',\n",
       "  'IBEX 35® Volatilidad Objetivo 12% Estándar',\n",
       "  'IBEX 35® Volatilidad Objetivo 15% Estándar',\n",
       "  'IBEX 35® Volatilidad Objetivo 18% Estándar',\n",
       "  'IBEX 35® Volatilidad Objetivo 10% Financiado',\n",
       "  'IBEX 35® Volatilidad Objetivo 12% Financiado',\n",
       "  'IBEX 35® Volatilidad Objetivo 15% Financiado',\n",
       "  'IBEX 35® Volatilidad Objetivo 18% Financiado',\n",
       "  'VIBEX®',\n",
       "  'IBEX 35® Skew',\n",
       "  'IBEX 35® BuyWrite',\n",
       "  'IBEX 35® PutWrite',\n",
       "  'IBEX 35® Protective Put',\n",
       "  'IBEX 35® Venta de Strangle',\n",
       "  'IBEX 35® TR Decrement 4,5%',\n",
       "  'IBEX 35® TR Decrement 5%',\n",
       "  'IBEX 35® TR Decrement 400P',\n",
       "  'IBEX 35® TR Decrement 450P',\n",
       "  'IBEX TOP Dividendo® Rentabilidad',\n",
       "  'IBEX TOP Dividendo® Rentabilidad Neta',\n",
       "  'IBEX MEDIUM CAP® con Dividendos',\n",
       "  'IBEX MEDIUM CAP® con Dividendos Netos',\n",
       "  'IBEX SMALL CAP® con Dividendos',\n",
       "  'IBEX SMALL CAP® con Dividendos Netos',\n",
       "  'IBEX Growth Market® 15',\n",
       "  'IBEX Growth Market® All Share',\n",
       "  'FTSE4Good IBEX',\n",
       "  'FTSE4Good IBEX Total Return',\n",
       "  'FTSE4Good IBEX Net Return',\n",
       "  'Latibex AS',\n",
       "  'Latibex TOP',\n",
       "  'Latibex BRASIL',\n",
       "  'I.G.B.M.',\n",
       "  'I.G.B.M. Total',\n",
       "  'BCN GLOBAL 100 (Base 1986)',\n",
       "  'BCN GLOBAL 100 (Base 1963)',\n",
       "  'BCN MID 50',\n",
       "  'BCN PROFIT-30',\n",
       "  'BCN ROE-30',\n",
       "  'BCN PER-30',\n",
       "  'BCN INDEXCAT',\n",
       "  'I.BILBAO 2000',\n",
       "  'I.G.B.V.',\n",
       "  'Índice TEF Apalancado X3',\n",
       "  'Índice SAN Apalancado X3',\n",
       "  'Índice BBVA Apalancado X3',\n",
       "  'Índice ITX Apalancado X3',\n",
       "  'Índice TEF Apalancado X5',\n",
       "  'Índice SAN Apalancado X5',\n",
       "  'Índice BBVA Apalancado X5',\n",
       "  'Índice ITX Apalancado X5',\n",
       "  'Índice TEF Inverso X3',\n",
       "  'Índice SAN Inverso X3',\n",
       "  'Índice BBVA Inverso X3',\n",
       "  'Índice ITX Inverso X3',\n",
       "  'Índice TEF Inverso X5',\n",
       "  'Índice SAN Inverso X5',\n",
       "  'Índice BBVA Inverso X5',\n",
       "  'Índice ITX Inverso X5'],\n",
       " ['9.312,30',\n",
       "  '30.176,80',\n",
       "  '13.710,40',\n",
       "  '8.078,40',\n",
       "  '593,40',\n",
       "  '1.494,90',\n",
       "  '1.765,10',\n",
       "  '9.224,30',\n",
       "  '10.674,70',\n",
       "  '10.392,60',\n",
       "  '2.610,90',\n",
       "  '24.990,90',\n",
       "  '1.888,10',\n",
       "  '166,90',\n",
       "  '5.223,60',\n",
       "  '277,90',\n",
       "  '421,00',\n",
       "  '4.273,20',\n",
       "  '22.508,80',\n",
       "  '18.327,90',\n",
       "  '553,30',\n",
       "  '7.501,40',\n",
       "  '330,40',\n",
       "  '5.724,70',\n",
       "  '25.059,30',\n",
       "  '120,40',\n",
       "  '188,30',\n",
       "  '196,00',\n",
       "  '202,50',\n",
       "  '203,70',\n",
       "  '135,00',\n",
       "  '139,10',\n",
       "  '146,10',\n",
       "  '141,70',\n",
       "  '14,99',\n",
       "  '6,98',\n",
       "  '1.546,73',\n",
       "  '1.558,78',\n",
       "  '671,35',\n",
       "  '1.580,43',\n",
       "  '9.241,80',\n",
       "  '9.183,50',\n",
       "  '9.207,00',\n",
       "  '9.134,70',\n",
       "  '7.833,70',\n",
       "  '6.362,40',\n",
       "  '16.468,40',\n",
       "  '15.132,30',\n",
       "  '12.575,70',\n",
       "  '12.015,60',\n",
       "  '2.344,70',\n",
       "  '2.005,20',\n",
       "  '9.904,90',\n",
       "  '23.630,40',\n",
       "  '20.654,40',\n",
       "  '2.198,80',\n",
       "  '5.024,10',\n",
       "  '10.319,30',\n",
       "  '926,30',\n",
       "  '4.308,59',\n",
       "  '749,19',\n",
       "  '1.925,54',\n",
       "  '24.923,62',\n",
       "  '11.999,44',\n",
       "  '16.822,41',\n",
       "  '18.214,87',\n",
       "  '20.327,76',\n",
       "  '1.484,96',\n",
       "  '1.437,61',\n",
       "  '287,80',\n",
       "  '336,40',\n",
       "  '738,80',\n",
       "  '3.104,70',\n",
       "  '217,90',\n",
       "  '526,90',\n",
       "  '274,80',\n",
       "  '80,70',\n",
       "  '322,80',\n",
       "  '6.881,40',\n",
       "  '3.962,30',\n",
       "  '59,60',\n",
       "  '1.471,10',\n",
       "  '75,30',\n",
       "  '83,80',\n",
       "  '74,70'],\n",
       " ['0,62%',\n",
       "  '0,98%',\n",
       "  '0,14%',\n",
       "  '0,35%',\n",
       "  '1,63%',\n",
       "  '0,59%',\n",
       "  '-0,62%',\n",
       "  '0,74%',\n",
       "  '0,88%',\n",
       "  '0,85%',\n",
       "  '0,84%',\n",
       "  '0,91%',\n",
       "  '-0,97%',\n",
       "  '-1,94%',\n",
       "  '-2,91%',\n",
       "  '-4,86%',\n",
       "  '-9,71%',\n",
       "  '1,24%',\n",
       "  '1,95%',\n",
       "  '1,82%',\n",
       "  '1,86%',\n",
       "  '2,72%',\n",
       "  '4,52%',\n",
       "  '9,04%',\n",
       "  '0,91%',\n",
       "  '-',\n",
       "  '0,43%',\n",
       "  '0,51%',\n",
       "  '0,65%',\n",
       "  '0,79%',\n",
       "  '0,45%',\n",
       "  '0,51%',\n",
       "  '0,62%',\n",
       "  '0,78%',\n",
       "  '-1,51%',\n",
       "  '-0,14%',\n",
       "  '0,28%',\n",
       "  '0,05%',\n",
       "  '1,18%',\n",
       "  '-0,90%',\n",
       "  '0,97%',\n",
       "  '0,97%',\n",
       "  '0,97%',\n",
       "  '0,97%',\n",
       "  '1,04%',\n",
       "  '1,00%',\n",
       "  '0,14%',\n",
       "  '0,14%',\n",
       "  '0,35%',\n",
       "  '0,35%',\n",
       "  '-0,41%',\n",
       "  '-0,16%',\n",
       "  '0,71%',\n",
       "  '0,97%',\n",
       "  '0,92%',\n",
       "  '-0,29%',\n",
       "  '-0,47%',\n",
       "  '-0,66%',\n",
       "  '0,73%',\n",
       "  '1,01%',\n",
       "  '0,80%',\n",
       "  '0,80%',\n",
       "  '0,65%',\n",
       "  '0,68%',\n",
       "  '0,67%',\n",
       "  '1,07%',\n",
       "  '0,85%',\n",
       "  '0,51%',\n",
       "  '0,87%',\n",
       "  '2,06%',\n",
       "  '9,29%',\n",
       "  '5,56%',\n",
       "  '-3,14%',\n",
       "  '3,42%',\n",
       "  '15,47%',\n",
       "  '9,26%',\n",
       "  '-5,28%',\n",
       "  '-2,09%',\n",
       "  '-9,32%',\n",
       "  '-5,59%',\n",
       "  '3,11%',\n",
       "  '-3,50%',\n",
       "  '-15,58%',\n",
       "  '-9,31%',\n",
       "  '5,21%'],\n",
       " ['9.323,50',\n",
       "  '30.213,10',\n",
       "  '13.740,80',\n",
       "  '8.111,80',\n",
       "  '594,50',\n",
       "  '1.501,50',\n",
       "  '1.777,80',\n",
       "  '9.230,70',\n",
       "  '10.682,20',\n",
       "  '10.399,90',\n",
       "  '2.614,80',\n",
       "  '25.021,00',\n",
       "  '1.904,60',\n",
       "  '169,80',\n",
       "  '5.363,10',\n",
       "  '290,50',\n",
       "  '461,20',\n",
       "  '4.283,50',\n",
       "  '22.562,40',\n",
       "  '18.371,60',\n",
       "  '555,20',\n",
       "  '7.528,00',\n",
       "  '332,30',\n",
       "  '5.788,50',\n",
       "  '25.089,50',\n",
       "  '120,40',\n",
       "  '188,40',\n",
       "  '196,10',\n",
       "  '202,70',\n",
       "  '203,90',\n",
       "  '135,00',\n",
       "  '139,20',\n",
       "  '146,30',\n",
       "  '141,80',\n",
       "  '14,99',\n",
       "  '6,98',\n",
       "  '1.546,73',\n",
       "  '1.558,78',\n",
       "  '671,35',\n",
       "  '1.580,43',\n",
       "  '9.253,00',\n",
       "  '9.194,50',\n",
       "  '9.218,10',\n",
       "  '9.145,70',\n",
       "  '7.845,40',\n",
       "  '6.371,90',\n",
       "  '16.504,90',\n",
       "  '15.165,80',\n",
       "  '12.627,70',\n",
       "  '12.065,30',\n",
       "  '2.354,00',\n",
       "  '2.011,80',\n",
       "  '9.916,70',\n",
       "  '23.658,70',\n",
       "  '20.679,10',\n",
       "  '2.223,80',\n",
       "  '5.063,60',\n",
       "  '10.427,90',\n",
       "  '927,22',\n",
       "  '4.308,59',\n",
       "  '750,09',\n",
       "  '1.927,86',\n",
       "  '24.955,15',\n",
       "  '12.012,65',\n",
       "  '16.835,64',\n",
       "  '18.223,65',\n",
       "  '20.363,71',\n",
       "  '1.487,08',\n",
       "  '1.439,45',\n",
       "  '292,20',\n",
       "  '336,40',\n",
       "  '746,60',\n",
       "  '3.239,10',\n",
       "  '223,40',\n",
       "  '526,90',\n",
       "  '279,40',\n",
       "  '86,70',\n",
       "  '338,20',\n",
       "  '7.507,50',\n",
       "  '4.137,70',\n",
       "  '59,90',\n",
       "  '1.590,10',\n",
       "  '87,60',\n",
       "  '90,20',\n",
       "  '75,20'],\n",
       " ['9.232,60',\n",
       "  '29.918,60',\n",
       "  '13.611,00',\n",
       "  '8.049,30',\n",
       "  '580,90',\n",
       "  '1.486,40',\n",
       "  '1.756,30',\n",
       "  '9.159,20',\n",
       "  '10.599,40',\n",
       "  '10.319,30',\n",
       "  '2.585,40',\n",
       "  '24.777,00',\n",
       "  '1.885,80',\n",
       "  '166,50',\n",
       "  '5.204,00',\n",
       "  '276,10',\n",
       "  '415,30',\n",
       "  '4.200,50',\n",
       "  '22.127,30',\n",
       "  '18.016,90',\n",
       "  '539,20',\n",
       "  '7.312,10',\n",
       "  '316,80',\n",
       "  '5.271,20',\n",
       "  '24.844,80',\n",
       "  '120,40',\n",
       "  '187,60',\n",
       "  '195,10',\n",
       "  '201,30',\n",
       "  '202,20',\n",
       "  '134,40',\n",
       "  '138,40',\n",
       "  '145,20',\n",
       "  '140,60',\n",
       "  '14,99',\n",
       "  '6,98',\n",
       "  '1.546,73',\n",
       "  '1.558,78',\n",
       "  '671,35',\n",
       "  '1.580,43',\n",
       "  '9.162,80',\n",
       "  '9.104,90',\n",
       "  '9.128,30',\n",
       "  '9.056,50',\n",
       "  '7.757,40',\n",
       "  '6.300,40',\n",
       "  '16.349,10',\n",
       "  '15.022,60',\n",
       "  '12.530,40',\n",
       "  '11.972,30',\n",
       "  '2.335,00',\n",
       "  '1.999,50',\n",
       "  '9.820,80',\n",
       "  '23.429,90',\n",
       "  '20.479,10',\n",
       "  '2.198,80',\n",
       "  '5.024,10',\n",
       "  '10.319,30',\n",
       "  '919,74',\n",
       "  '4.308,59',\n",
       "  '743,83',\n",
       "  '1.911,76',\n",
       "  '24.737,27',\n",
       "  '11.927,97',\n",
       "  '16.736,15',\n",
       "  '18.069,25',\n",
       "  '20.074,67',\n",
       "  '1.477,30',\n",
       "  '1.428,17',\n",
       "  '274,60',\n",
       "  '311,00',\n",
       "  '709,50',\n",
       "  '3.089,10',\n",
       "  '201,50',\n",
       "  '464,10',\n",
       "  '257,20',\n",
       "  '80,00',\n",
       "  '317,60',\n",
       "  '6.881,40',\n",
       "  '3.915,50',\n",
       "  '57,20',\n",
       "  '1.431,40',\n",
       "  '75,30',\n",
       "  '82,10',\n",
       "  '69,70'],\n",
       " ['06/04/2023',\n",
       "  '06/04/2023',\n",
       "  '06/04/2023',\n",
       "  '06/04/2023',\n",
       "  '06/04/2023',\n",
       "  '06/04/2023',\n",
       "  '06/04/2023',\n",
       "  '06/04/2023',\n",
       "  '06/04/2023',\n",
       "  '06/04/2023',\n",
       "  '06/04/2023',\n",
       "  '06/04/2023',\n",
       "  '06/04/2023',\n",
       "  '06/04/2023',\n",
       "  '06/04/2023',\n",
       "  '06/04/2023',\n",
       "  '06/04/2023',\n",
       "  '06/04/2023',\n",
       "  '06/04/2023',\n",
       "  '06/04/2023',\n",
       "  '06/04/2023',\n",
       "  '06/04/2023',\n",
       "  '06/04/2023',\n",
       "  '06/04/2023',\n",
       "  '06/04/2023',\n",
       "  '06/04/2023',\n",
       "  '06/04/2023',\n",
       "  '06/04/2023',\n",
       "  '06/04/2023',\n",
       "  '06/04/2023',\n",
       "  '06/04/2023',\n",
       "  '06/04/2023',\n",
       "  '06/04/2023',\n",
       "  '06/04/2023',\n",
       "  '06/04/2023',\n",
       "  '06/04/2023',\n",
       "  '06/04/2023',\n",
       "  '06/04/2023',\n",
       "  '06/04/2023',\n",
       "  '06/04/2023',\n",
       "  '06/04/2023',\n",
       "  '06/04/2023',\n",
       "  '06/04/2023',\n",
       "  '06/04/2023',\n",
       "  '06/04/2023',\n",
       "  '06/04/2023',\n",
       "  '06/04/2023',\n",
       "  '06/04/2023',\n",
       "  '06/04/2023',\n",
       "  '06/04/2023',\n",
       "  '06/04/2023',\n",
       "  '06/04/2023',\n",
       "  '06/04/2023',\n",
       "  '06/04/2023',\n",
       "  '06/04/2023',\n",
       "  '06/04/2023',\n",
       "  '06/04/2023',\n",
       "  '06/04/2023',\n",
       "  '06/04/2023',\n",
       "  '06/04/2023',\n",
       "  '06/04/2023',\n",
       "  '06/04/2023',\n",
       "  '06/04/2023',\n",
       "  '06/04/2023',\n",
       "  '06/04/2023',\n",
       "  '06/04/2023',\n",
       "  '06/04/2023',\n",
       "  '06/04/2023',\n",
       "  '06/04/2023',\n",
       "  '06/04/2023',\n",
       "  '06/04/2023',\n",
       "  '06/04/2023',\n",
       "  '06/04/2023',\n",
       "  '06/04/2023',\n",
       "  '06/04/2023',\n",
       "  '06/04/2023',\n",
       "  '06/04/2023',\n",
       "  '06/04/2023',\n",
       "  '06/04/2023',\n",
       "  '06/04/2023',\n",
       "  '06/04/2023',\n",
       "  '06/04/2023',\n",
       "  '06/04/2023',\n",
       "  '06/04/2023',\n",
       "  '06/04/2023'],\n",
       " ['17:38:00',\n",
       "  '17:38:00',\n",
       "  '17:38:00',\n",
       "  '17:38:00',\n",
       "  '17:38:00',\n",
       "  '17:38:00',\n",
       "  '17:38:00',\n",
       "  '17:38:00',\n",
       "  '17:38:00',\n",
       "  '17:38:00',\n",
       "  '17:38:00',\n",
       "  '17:38:00',\n",
       "  '17:38:00',\n",
       "  '17:38:00',\n",
       "  '17:38:00',\n",
       "  '17:38:00',\n",
       "  '17:38:00',\n",
       "  '17:38:00',\n",
       "  '17:38:00',\n",
       "  '17:38:00',\n",
       "  '17:38:00',\n",
       "  '17:38:00',\n",
       "  '17:38:00',\n",
       "  '17:38:00',\n",
       "  '17:38:00',\n",
       "  '',\n",
       "  '17:38:00',\n",
       "  '17:38:00',\n",
       "  '17:38:00',\n",
       "  '17:38:00',\n",
       "  '17:38:00',\n",
       "  '17:38:00',\n",
       "  '17:38:00',\n",
       "  '17:38:00',\n",
       "  '',\n",
       "  '',\n",
       "  '',\n",
       "  '',\n",
       "  '',\n",
       "  '',\n",
       "  '',\n",
       "  '',\n",
       "  '',\n",
       "  '',\n",
       "  '17:38:00',\n",
       "  '17:38:00',\n",
       "  '17:38:00',\n",
       "  '17:38:00',\n",
       "  '17:38:00',\n",
       "  '17:38:00',\n",
       "  '17:39:01',\n",
       "  '17:39:01',\n",
       "  '17:38:00',\n",
       "  '17:38:00',\n",
       "  '17:38:00',\n",
       "  '17:38:00',\n",
       "  '17:38:00',\n",
       "  '17:38:00',\n",
       "  '17:38:00',\n",
       "  '',\n",
       "  '17:38:00',\n",
       "  '17:38:00',\n",
       "  '17:38:00',\n",
       "  '17:38:00',\n",
       "  '17:38:00',\n",
       "  '17:38:00',\n",
       "  '17:38:00',\n",
       "  '17:38:00',\n",
       "  '17:38:00',\n",
       "  '17:38:00',\n",
       "  '17:38:00',\n",
       "  '17:38:00',\n",
       "  '17:38:00',\n",
       "  '17:38:00',\n",
       "  '17:38:00',\n",
       "  '17:38:00',\n",
       "  '17:38:00',\n",
       "  '17:38:00',\n",
       "  '17:38:00',\n",
       "  '17:38:00',\n",
       "  '17:38:00',\n",
       "  '17:38:00',\n",
       "  '17:38:00',\n",
       "  '17:38:00',\n",
       "  '17:38:00'],\n",
       " ['13,16%',\n",
       "  '14,60%',\n",
       "  '7,13%',\n",
       "  '12,43%',\n",
       "  '13,35%',\n",
       "  '5,27%',\n",
       "  '10,07%',\n",
       "  '14,98%',\n",
       "  '16,27%',\n",
       "  '16,06%',\n",
       "  '3,28%',\n",
       "  '14,32%',\n",
       "  '-12,54%',\n",
       "  '-24,68%',\n",
       "  '-35,81%',\n",
       "  '-54,58%',\n",
       "  '-83,76%',\n",
       "  '25,96%',\n",
       "  '29,17%',\n",
       "  '28,56%',\n",
       "  '38,92%',\n",
       "  '43,11%',\n",
       "  '71,90%',\n",
       "  '-77,89%',\n",
       "  '14,32%',\n",
       "  '-',\n",
       "  '8,22%',\n",
       "  '9,80%',\n",
       "  '12,44%',\n",
       "  '14,95%',\n",
       "  '8,00%',\n",
       "  '9,18%',\n",
       "  '11,95%',\n",
       "  '14,18%',\n",
       "  '-7,64%',\n",
       "  '26,91%',\n",
       "  '5,59%',\n",
       "  '2,26%',\n",
       "  '12,53%',\n",
       "  '-6,20%',\n",
       "  '13,24%',\n",
       "  '13,09%',\n",
       "  '13,24%',\n",
       "  '13,06%',\n",
       "  '5,36%',\n",
       "  '5,02%',\n",
       "  '8,03%',\n",
       "  '7,85%',\n",
       "  '13,70%',\n",
       "  '13,57%',\n",
       "  '-1,55%',\n",
       "  '1,93%',\n",
       "  '12,61%',\n",
       "  '14,01%',\n",
       "  '13,74%',\n",
       "  '-4,84%',\n",
       "  '-5,93%',\n",
       "  '-7,84%',\n",
       "  '12,93%',\n",
       "  '14,40%',\n",
       "  '12,36%',\n",
       "  '12,36%',\n",
       "  '12,21%',\n",
       "  '9,48%',\n",
       "  '6,61%',\n",
       "  '5,47%',\n",
       "  '6,59%',\n",
       "  '13,32%',\n",
       "  '14,50%',\n",
       "  '65,31%',\n",
       "  '73,67%',\n",
       "  '54,43%',\n",
       "  '72,73%',\n",
       "  '118,99%',\n",
       "  '101,11%',\n",
       "  '58,39%',\n",
       "  '127,97%',\n",
       "  '-47,13%',\n",
       "  '130,00%',\n",
       "  '-58,16%',\n",
       "  '-51,82%',\n",
       "  '-67,48%',\n",
       "  '-83,17%',\n",
       "  '-80,68%',\n",
       "  '-72,82%']]"
      ]
     },
     "execution_count": 16,
     "metadata": {},
     "output_type": "execute_result"
    }
   ],
   "source": [
    "total_columns=[]\n",
    "for i in range(1,columns+1):\n",
    "       total_columns.append(my_function(i))\n",
    "total_columns"
   ]
  },
  {
   "cell_type": "code",
   "execution_count": 17,
   "id": "f9e7c6f2",
   "metadata": {
    "scrolled": true
   },
   "outputs": [
    {
     "data": {
      "text/plain": [
       "['Índice',\n",
       " 'Último',\n",
       " '% Dif.',\n",
       " 'Máximo',\n",
       " 'Mínimo',\n",
       " 'Fecha',\n",
       " 'Hora',\n",
       " '% Dif. Año']"
      ]
     },
     "execution_count": 17,
     "metadata": {},
     "output_type": "execute_result"
    }
   ],
   "source": [
    "columns_title=[]\n",
    "for t_col in range(1, (columns + 1)):\n",
    "    columns_title.append(driver.find_element(By.XPATH,\"//*[@id='root']/div[2]/table/thead/tr/th[\"+str(t_col)+\"]\").text)\n",
    "columns_title"
   ]
  },
  {
   "cell_type": "markdown",
   "id": "839b2e6b",
   "metadata": {},
   "source": [
    "Acabamos de crear una función que nos permita generar la tabla independientemente de si se modifica la estructura de la tabla (número de columnas y filas), y la información qu contiene."
   ]
  },
  {
   "cell_type": "markdown",
   "id": "7a382026",
   "metadata": {},
   "source": [
    "## Construcción del dataset"
   ]
  },
  {
   "cell_type": "code",
   "execution_count": 18,
   "id": "91fb1f8f",
   "metadata": {
    "scrolled": true
   },
   "outputs": [
    {
     "data": {
      "text/html": [
       "<div>\n",
       "<style scoped>\n",
       "    .dataframe tbody tr th:only-of-type {\n",
       "        vertical-align: middle;\n",
       "    }\n",
       "\n",
       "    .dataframe tbody tr th {\n",
       "        vertical-align: top;\n",
       "    }\n",
       "\n",
       "    .dataframe thead th {\n",
       "        text-align: right;\n",
       "    }\n",
       "</style>\n",
       "<table border=\"1\" class=\"dataframe\">\n",
       "  <thead>\n",
       "    <tr style=\"text-align: right;\">\n",
       "      <th></th>\n",
       "      <th>0</th>\n",
       "      <th>1</th>\n",
       "      <th>2</th>\n",
       "      <th>3</th>\n",
       "      <th>4</th>\n",
       "      <th>5</th>\n",
       "      <th>6</th>\n",
       "      <th>7</th>\n",
       "      <th>8</th>\n",
       "      <th>9</th>\n",
       "      <th>...</th>\n",
       "      <th>75</th>\n",
       "      <th>76</th>\n",
       "      <th>77</th>\n",
       "      <th>78</th>\n",
       "      <th>79</th>\n",
       "      <th>80</th>\n",
       "      <th>81</th>\n",
       "      <th>82</th>\n",
       "      <th>83</th>\n",
       "      <th>84</th>\n",
       "    </tr>\n",
       "  </thead>\n",
       "  <tbody>\n",
       "    <tr>\n",
       "      <th>0</th>\n",
       "      <td>IBEX 35®</td>\n",
       "      <td>IBEX 35® con Dividendos</td>\n",
       "      <td>IBEX MEDIUM CAP®</td>\n",
       "      <td>IBEX SMALL CAP®</td>\n",
       "      <td>IBEX 35® Bancos</td>\n",
       "      <td>IBEX 35® Energía</td>\n",
       "      <td>IBEX 35® Construcción</td>\n",
       "      <td>IBEX Gender Equality</td>\n",
       "      <td>IBEX Gender Equality Total Return</td>\n",
       "      <td>IBEX Gender Equality Net Return</td>\n",
       "      <td>...</td>\n",
       "      <td>Índice BBVA Apalancado X5</td>\n",
       "      <td>Índice ITX Apalancado X5</td>\n",
       "      <td>Índice TEF Inverso X3</td>\n",
       "      <td>Índice SAN Inverso X3</td>\n",
       "      <td>Índice BBVA Inverso X3</td>\n",
       "      <td>Índice ITX Inverso X3</td>\n",
       "      <td>Índice TEF Inverso X5</td>\n",
       "      <td>Índice SAN Inverso X5</td>\n",
       "      <td>Índice BBVA Inverso X5</td>\n",
       "      <td>Índice ITX Inverso X5</td>\n",
       "    </tr>\n",
       "    <tr>\n",
       "      <th>1</th>\n",
       "      <td>9.312,30</td>\n",
       "      <td>30.176,80</td>\n",
       "      <td>13.710,40</td>\n",
       "      <td>8.078,40</td>\n",
       "      <td>593,40</td>\n",
       "      <td>1.494,90</td>\n",
       "      <td>1.765,10</td>\n",
       "      <td>9.224,30</td>\n",
       "      <td>10.674,70</td>\n",
       "      <td>10.392,60</td>\n",
       "      <td>...</td>\n",
       "      <td>274,80</td>\n",
       "      <td>80,70</td>\n",
       "      <td>322,80</td>\n",
       "      <td>6.881,40</td>\n",
       "      <td>3.962,30</td>\n",
       "      <td>59,60</td>\n",
       "      <td>1.471,10</td>\n",
       "      <td>75,30</td>\n",
       "      <td>83,80</td>\n",
       "      <td>74,70</td>\n",
       "    </tr>\n",
       "    <tr>\n",
       "      <th>2</th>\n",
       "      <td>0,62%</td>\n",
       "      <td>0,98%</td>\n",
       "      <td>0,14%</td>\n",
       "      <td>0,35%</td>\n",
       "      <td>1,63%</td>\n",
       "      <td>0,59%</td>\n",
       "      <td>-0,62%</td>\n",
       "      <td>0,74%</td>\n",
       "      <td>0,88%</td>\n",
       "      <td>0,85%</td>\n",
       "      <td>...</td>\n",
       "      <td>9,26%</td>\n",
       "      <td>-5,28%</td>\n",
       "      <td>-2,09%</td>\n",
       "      <td>-9,32%</td>\n",
       "      <td>-5,59%</td>\n",
       "      <td>3,11%</td>\n",
       "      <td>-3,50%</td>\n",
       "      <td>-15,58%</td>\n",
       "      <td>-9,31%</td>\n",
       "      <td>5,21%</td>\n",
       "    </tr>\n",
       "    <tr>\n",
       "      <th>3</th>\n",
       "      <td>9.323,50</td>\n",
       "      <td>30.213,10</td>\n",
       "      <td>13.740,80</td>\n",
       "      <td>8.111,80</td>\n",
       "      <td>594,50</td>\n",
       "      <td>1.501,50</td>\n",
       "      <td>1.777,80</td>\n",
       "      <td>9.230,70</td>\n",
       "      <td>10.682,20</td>\n",
       "      <td>10.399,90</td>\n",
       "      <td>...</td>\n",
       "      <td>279,40</td>\n",
       "      <td>86,70</td>\n",
       "      <td>338,20</td>\n",
       "      <td>7.507,50</td>\n",
       "      <td>4.137,70</td>\n",
       "      <td>59,90</td>\n",
       "      <td>1.590,10</td>\n",
       "      <td>87,60</td>\n",
       "      <td>90,20</td>\n",
       "      <td>75,20</td>\n",
       "    </tr>\n",
       "    <tr>\n",
       "      <th>4</th>\n",
       "      <td>9.232,60</td>\n",
       "      <td>29.918,60</td>\n",
       "      <td>13.611,00</td>\n",
       "      <td>8.049,30</td>\n",
       "      <td>580,90</td>\n",
       "      <td>1.486,40</td>\n",
       "      <td>1.756,30</td>\n",
       "      <td>9.159,20</td>\n",
       "      <td>10.599,40</td>\n",
       "      <td>10.319,30</td>\n",
       "      <td>...</td>\n",
       "      <td>257,20</td>\n",
       "      <td>80,00</td>\n",
       "      <td>317,60</td>\n",
       "      <td>6.881,40</td>\n",
       "      <td>3.915,50</td>\n",
       "      <td>57,20</td>\n",
       "      <td>1.431,40</td>\n",
       "      <td>75,30</td>\n",
       "      <td>82,10</td>\n",
       "      <td>69,70</td>\n",
       "    </tr>\n",
       "  </tbody>\n",
       "</table>\n",
       "<p>5 rows × 85 columns</p>\n",
       "</div>"
      ],
      "text/plain": [
       "         0                        1                 2                3   \\\n",
       "0  IBEX 35®  IBEX 35® con Dividendos  IBEX MEDIUM CAP®  IBEX SMALL CAP®   \n",
       "1  9.312,30                30.176,80         13.710,40         8.078,40   \n",
       "2     0,62%                    0,98%             0,14%            0,35%   \n",
       "3  9.323,50                30.213,10         13.740,80         8.111,80   \n",
       "4  9.232,60                29.918,60         13.611,00         8.049,30   \n",
       "\n",
       "                4                 5                      6   \\\n",
       "0  IBEX 35® Bancos  IBEX 35® Energía  IBEX 35® Construcción   \n",
       "1           593,40          1.494,90               1.765,10   \n",
       "2            1,63%             0,59%                 -0,62%   \n",
       "3           594,50          1.501,50               1.777,80   \n",
       "4           580,90          1.486,40               1.756,30   \n",
       "\n",
       "                     7                                  8   \\\n",
       "0  IBEX Gender Equality  IBEX Gender Equality Total Return   \n",
       "1              9.224,30                          10.674,70   \n",
       "2                 0,74%                              0,88%   \n",
       "3              9.230,70                          10.682,20   \n",
       "4              9.159,20                          10.599,40   \n",
       "\n",
       "                                9   ...                         75  \\\n",
       "0  IBEX Gender Equality Net Return  ...  Índice BBVA Apalancado X5   \n",
       "1                        10.392,60  ...                     274,80   \n",
       "2                            0,85%  ...                      9,26%   \n",
       "3                        10.399,90  ...                     279,40   \n",
       "4                        10.319,30  ...                     257,20   \n",
       "\n",
       "                         76                     77                     78  \\\n",
       "0  Índice ITX Apalancado X5  Índice TEF Inverso X3  Índice SAN Inverso X3   \n",
       "1                     80,70                 322,80               6.881,40   \n",
       "2                    -5,28%                 -2,09%                 -9,32%   \n",
       "3                     86,70                 338,20               7.507,50   \n",
       "4                     80,00                 317,60               6.881,40   \n",
       "\n",
       "                       79                     80                     81  \\\n",
       "0  Índice BBVA Inverso X3  Índice ITX Inverso X3  Índice TEF Inverso X5   \n",
       "1                3.962,30                  59,60               1.471,10   \n",
       "2                  -5,59%                  3,11%                 -3,50%   \n",
       "3                4.137,70                  59,90               1.590,10   \n",
       "4                3.915,50                  57,20               1.431,40   \n",
       "\n",
       "                      82                      83                     84  \n",
       "0  Índice SAN Inverso X5  Índice BBVA Inverso X5  Índice ITX Inverso X5  \n",
       "1                  75,30                   83,80                  74,70  \n",
       "2                -15,58%                  -9,31%                  5,21%  \n",
       "3                  87,60                   90,20                  75,20  \n",
       "4                  75,30                   82,10                  69,70  \n",
       "\n",
       "[5 rows x 85 columns]"
      ]
     },
     "execution_count": 18,
     "metadata": {},
     "output_type": "execute_result"
    }
   ],
   "source": [
    "df_variable = pd.DataFrame(total_columns)\n",
    "df_variable.head()"
   ]
  },
  {
   "cell_type": "code",
   "execution_count": 19,
   "id": "d9099498",
   "metadata": {
    "scrolled": false
   },
   "outputs": [
    {
     "name": "stdout",
     "output_type": "stream",
     "text": [
      "<class 'pandas.core.frame.DataFrame'>\n",
      "RangeIndex: 85 entries, 0 to 84\n",
      "Data columns (total 8 columns):\n",
      " #   Column  Non-Null Count  Dtype \n",
      "---  ------  --------------  ----- \n",
      " 0   0       85 non-null     object\n",
      " 1   1       85 non-null     object\n",
      " 2   2       85 non-null     object\n",
      " 3   3       85 non-null     object\n",
      " 4   4       85 non-null     object\n",
      " 5   5       85 non-null     object\n",
      " 6   6       85 non-null     object\n",
      " 7   7       85 non-null     object\n",
      "dtypes: object(8)\n",
      "memory usage: 5.4+ KB\n"
     ]
    }
   ],
   "source": [
    "df1_variable=df_variable.transpose()\n",
    "df1_variable.info()"
   ]
  },
  {
   "cell_type": "code",
   "execution_count": 20,
   "id": "5de77fc7",
   "metadata": {
    "scrolled": true
   },
   "outputs": [
    {
     "data": {
      "text/html": [
       "<div>\n",
       "<style scoped>\n",
       "    .dataframe tbody tr th:only-of-type {\n",
       "        vertical-align: middle;\n",
       "    }\n",
       "\n",
       "    .dataframe tbody tr th {\n",
       "        vertical-align: top;\n",
       "    }\n",
       "\n",
       "    .dataframe thead th {\n",
       "        text-align: right;\n",
       "    }\n",
       "</style>\n",
       "<table border=\"1\" class=\"dataframe\">\n",
       "  <thead>\n",
       "    <tr style=\"text-align: right;\">\n",
       "      <th></th>\n",
       "      <th>Índice</th>\n",
       "      <th>Último</th>\n",
       "      <th>% Dif.</th>\n",
       "      <th>Máximo</th>\n",
       "      <th>Mínimo</th>\n",
       "      <th>Fecha</th>\n",
       "      <th>Hora</th>\n",
       "      <th>% Dif. Año</th>\n",
       "    </tr>\n",
       "  </thead>\n",
       "  <tbody>\n",
       "    <tr>\n",
       "      <th>0</th>\n",
       "      <td>IBEX 35®</td>\n",
       "      <td>9.312,30</td>\n",
       "      <td>0,62%</td>\n",
       "      <td>9.323,50</td>\n",
       "      <td>9.232,60</td>\n",
       "      <td>06/04/2023</td>\n",
       "      <td>17:38:00</td>\n",
       "      <td>13,16%</td>\n",
       "    </tr>\n",
       "    <tr>\n",
       "      <th>1</th>\n",
       "      <td>IBEX 35® con Dividendos</td>\n",
       "      <td>30.176,80</td>\n",
       "      <td>0,98%</td>\n",
       "      <td>30.213,10</td>\n",
       "      <td>29.918,60</td>\n",
       "      <td>06/04/2023</td>\n",
       "      <td>17:38:00</td>\n",
       "      <td>14,60%</td>\n",
       "    </tr>\n",
       "    <tr>\n",
       "      <th>2</th>\n",
       "      <td>IBEX MEDIUM CAP®</td>\n",
       "      <td>13.710,40</td>\n",
       "      <td>0,14%</td>\n",
       "      <td>13.740,80</td>\n",
       "      <td>13.611,00</td>\n",
       "      <td>06/04/2023</td>\n",
       "      <td>17:38:00</td>\n",
       "      <td>7,13%</td>\n",
       "    </tr>\n",
       "    <tr>\n",
       "      <th>3</th>\n",
       "      <td>IBEX SMALL CAP®</td>\n",
       "      <td>8.078,40</td>\n",
       "      <td>0,35%</td>\n",
       "      <td>8.111,80</td>\n",
       "      <td>8.049,30</td>\n",
       "      <td>06/04/2023</td>\n",
       "      <td>17:38:00</td>\n",
       "      <td>12,43%</td>\n",
       "    </tr>\n",
       "    <tr>\n",
       "      <th>4</th>\n",
       "      <td>IBEX 35® Bancos</td>\n",
       "      <td>593,40</td>\n",
       "      <td>1,63%</td>\n",
       "      <td>594,50</td>\n",
       "      <td>580,90</td>\n",
       "      <td>06/04/2023</td>\n",
       "      <td>17:38:00</td>\n",
       "      <td>13,35%</td>\n",
       "    </tr>\n",
       "    <tr>\n",
       "      <th>...</th>\n",
       "      <td>...</td>\n",
       "      <td>...</td>\n",
       "      <td>...</td>\n",
       "      <td>...</td>\n",
       "      <td>...</td>\n",
       "      <td>...</td>\n",
       "      <td>...</td>\n",
       "      <td>...</td>\n",
       "    </tr>\n",
       "    <tr>\n",
       "      <th>80</th>\n",
       "      <td>Índice ITX Inverso X3</td>\n",
       "      <td>59,60</td>\n",
       "      <td>3,11%</td>\n",
       "      <td>59,90</td>\n",
       "      <td>57,20</td>\n",
       "      <td>06/04/2023</td>\n",
       "      <td>17:38:00</td>\n",
       "      <td>-51,82%</td>\n",
       "    </tr>\n",
       "    <tr>\n",
       "      <th>81</th>\n",
       "      <td>Índice TEF Inverso X5</td>\n",
       "      <td>1.471,10</td>\n",
       "      <td>-3,50%</td>\n",
       "      <td>1.590,10</td>\n",
       "      <td>1.431,40</td>\n",
       "      <td>06/04/2023</td>\n",
       "      <td>17:38:00</td>\n",
       "      <td>-67,48%</td>\n",
       "    </tr>\n",
       "    <tr>\n",
       "      <th>82</th>\n",
       "      <td>Índice SAN Inverso X5</td>\n",
       "      <td>75,30</td>\n",
       "      <td>-15,58%</td>\n",
       "      <td>87,60</td>\n",
       "      <td>75,30</td>\n",
       "      <td>06/04/2023</td>\n",
       "      <td>17:38:00</td>\n",
       "      <td>-83,17%</td>\n",
       "    </tr>\n",
       "    <tr>\n",
       "      <th>83</th>\n",
       "      <td>Índice BBVA Inverso X5</td>\n",
       "      <td>83,80</td>\n",
       "      <td>-9,31%</td>\n",
       "      <td>90,20</td>\n",
       "      <td>82,10</td>\n",
       "      <td>06/04/2023</td>\n",
       "      <td>17:38:00</td>\n",
       "      <td>-80,68%</td>\n",
       "    </tr>\n",
       "    <tr>\n",
       "      <th>84</th>\n",
       "      <td>Índice ITX Inverso X5</td>\n",
       "      <td>74,70</td>\n",
       "      <td>5,21%</td>\n",
       "      <td>75,20</td>\n",
       "      <td>69,70</td>\n",
       "      <td>06/04/2023</td>\n",
       "      <td>17:38:00</td>\n",
       "      <td>-72,82%</td>\n",
       "    </tr>\n",
       "  </tbody>\n",
       "</table>\n",
       "<p>85 rows × 8 columns</p>\n",
       "</div>"
      ],
      "text/plain": [
       "                     Índice     Último   % Dif.     Máximo     Mínimo  \\\n",
       "0                  IBEX 35®   9.312,30    0,62%   9.323,50   9.232,60   \n",
       "1   IBEX 35® con Dividendos  30.176,80    0,98%  30.213,10  29.918,60   \n",
       "2          IBEX MEDIUM CAP®  13.710,40    0,14%  13.740,80  13.611,00   \n",
       "3           IBEX SMALL CAP®   8.078,40    0,35%   8.111,80   8.049,30   \n",
       "4           IBEX 35® Bancos     593,40    1,63%     594,50     580,90   \n",
       "..                      ...        ...      ...        ...        ...   \n",
       "80    Índice ITX Inverso X3      59,60    3,11%      59,90      57,20   \n",
       "81    Índice TEF Inverso X5   1.471,10   -3,50%   1.590,10   1.431,40   \n",
       "82    Índice SAN Inverso X5      75,30  -15,58%      87,60      75,30   \n",
       "83   Índice BBVA Inverso X5      83,80   -9,31%      90,20      82,10   \n",
       "84    Índice ITX Inverso X5      74,70    5,21%      75,20      69,70   \n",
       "\n",
       "         Fecha      Hora % Dif. Año  \n",
       "0   06/04/2023  17:38:00     13,16%  \n",
       "1   06/04/2023  17:38:00     14,60%  \n",
       "2   06/04/2023  17:38:00      7,13%  \n",
       "3   06/04/2023  17:38:00     12,43%  \n",
       "4   06/04/2023  17:38:00     13,35%  \n",
       "..         ...       ...        ...  \n",
       "80  06/04/2023  17:38:00    -51,82%  \n",
       "81  06/04/2023  17:38:00    -67,48%  \n",
       "82  06/04/2023  17:38:00    -83,17%  \n",
       "83  06/04/2023  17:38:00    -80,68%  \n",
       "84  06/04/2023  17:38:00    -72,82%  \n",
       "\n",
       "[85 rows x 8 columns]"
      ]
     },
     "execution_count": 20,
     "metadata": {},
     "output_type": "execute_result"
    }
   ],
   "source": [
    "df1_variable.columns=columns_title\n",
    "df1_variable"
   ]
  },
  {
   "cell_type": "code",
   "execution_count": 38,
   "id": "f456f6eb",
   "metadata": {
    "scrolled": true
   },
   "outputs": [
    {
     "name": "stdout",
     "output_type": "stream",
     "text": [
      "<class 'pandas.core.frame.DataFrame'>\n",
      "RangeIndex: 85 entries, 0 to 84\n",
      "Data columns (total 8 columns):\n",
      " #   Column      Non-Null Count  Dtype \n",
      "---  ------      --------------  ----- \n",
      " 0   Índice      85 non-null     object\n",
      " 1   Último      85 non-null     object\n",
      " 2   % Dif.      85 non-null     object\n",
      " 3   Máximo      85 non-null     object\n",
      " 4   Mínimo      85 non-null     object\n",
      " 5   Fecha       85 non-null     object\n",
      " 6   Hora        85 non-null     object\n",
      " 7   % Dif. Año  85 non-null     object\n",
      "dtypes: object(8)\n",
      "memory usage: 5.4+ KB\n"
     ]
    }
   ],
   "source": [
    "df1_variable.info()"
   ]
  },
  {
   "cell_type": "markdown",
   "id": "b279c07f",
   "metadata": {},
   "source": [
    "## APLICACIÓN AL RESTO DE TABLAS"
   ]
  },
  {
   "cell_type": "markdown",
   "id": "842aed62",
   "metadata": {},
   "source": [
    "Con la función creada más arriba podemos generar al resto de tablas, cambiando el elemento relativo h2(h2[1],h2[2],h2[3],h2[4] sucesivamente), y el elemento relativo div(div[2],div[3],div[4],div[5] sucesivamente)."
   ]
  },
  {
   "cell_type": "markdown",
   "id": "86c17c42",
   "metadata": {},
   "source": [
    "## Creación de la segunda tabla 'Renta Fija'"
   ]
  },
  {
   "cell_type": "code",
   "execution_count": 21,
   "id": "f4ef34de",
   "metadata": {},
   "outputs": [
    {
     "name": "stdout",
     "output_type": "stream",
     "text": [
      "Índices de Renta Fija\n"
     ]
    }
   ],
   "source": [
    "print(driver.find_element(By.XPATH,'//*[@id=\"root\"]/h2[2]').text)"
   ]
  },
  {
   "cell_type": "code",
   "execution_count": 22,
   "id": "389e05f9",
   "metadata": {
    "scrolled": true
   },
   "outputs": [
    {
     "name": "stdout",
     "output_type": "stream",
     "text": [
      "AIAF 2000®\n"
     ]
    }
   ],
   "source": [
    "print(driver.find_element(By.XPATH,'//*[@id=\"root\"]/div[3]/table/tbody/tr[1]/td[1]').text)"
   ]
  },
  {
   "cell_type": "code",
   "execution_count": 23,
   "id": "f55cb5c7",
   "metadata": {},
   "outputs": [
    {
     "data": {
      "text/plain": [
       "5"
      ]
     },
     "execution_count": 23,
     "metadata": {},
     "output_type": "execute_result"
    }
   ],
   "source": [
    "rows=len(driver.find_elements(By.XPATH,'//*[@id=\"root\"]/div[3]/table/tbody/tr'))\n",
    "rows"
   ]
  },
  {
   "cell_type": "code",
   "execution_count": 24,
   "id": "94cc0723",
   "metadata": {},
   "outputs": [
    {
     "data": {
      "text/plain": [
       "8"
      ]
     },
     "execution_count": 24,
     "metadata": {},
     "output_type": "execute_result"
    }
   ],
   "source": [
    "columns=len(driver.find_elements(By.XPATH,'//*[@id=\"root\"]/div[3]/table/tbody/tr[2]/td'))\n",
    "columns"
   ]
  },
  {
   "cell_type": "code",
   "execution_count": 25,
   "id": "a6aac595",
   "metadata": {},
   "outputs": [],
   "source": [
    "before_XPath =' //*[@id=\"root\"]/div[3]/table/tbody/tr['\n",
    "aftertd_XPath= \"]/td[\""
   ]
  },
  {
   "cell_type": "code",
   "execution_count": 27,
   "id": "7c72b135",
   "metadata": {},
   "outputs": [],
   "source": [
    "def my_function(x):\n",
    "    column=[]\n",
    "    for t_row in range(1, (rows + 1)):\n",
    "        FinalXPath = before_XPath + str(t_row) + aftertd_XPath+str(x)+']'\n",
    "        column.append(driver.find_element(By.XPATH,FinalXPath).text)\n",
    "    return column\n",
    "  "
   ]
  },
  {
   "cell_type": "code",
   "execution_count": 28,
   "id": "96b798b2",
   "metadata": {
    "scrolled": true
   },
   "outputs": [
    {
     "data": {
      "text/plain": [
       "[['AIAF 2000®',\n",
       "  'AIAF 2000® Corto',\n",
       "  'AIAF 2000® Medio',\n",
       "  'AIAF 2000® Largo',\n",
       "  'AIAF 2000® Extra Largo'],\n",
       " ['5.979,50', '4.738,20', '5.722,39', '6.984,30', '9.073,79'],\n",
       " ['3,76', '1,91', '3,60', '7,16', '11,03'],\n",
       " ['6.006,13', '4.750,01', '5.750,87', '7.045,55', '9.166,22'],\n",
       " ['3,74', '1,91', '3,60', '7,17', '11,04'],\n",
       " ['0,44%', '0,25%', '0,50%', '0,87%', '1,01%'],\n",
       " ['26,63', '11,81', '28,48', '61,25', '92,43'],\n",
       " ['06/04/2023', '06/04/2023', '06/04/2023', '06/04/2023', '06/04/2023']]"
      ]
     },
     "execution_count": 28,
     "metadata": {},
     "output_type": "execute_result"
    }
   ],
   "source": [
    "total_columns=[]\n",
    "for i in range(1,columns+1):\n",
    "       total_columns.append(my_function(i))\n",
    "total_columns"
   ]
  },
  {
   "cell_type": "code",
   "execution_count": 29,
   "id": "93638b7a",
   "metadata": {
    "scrolled": true
   },
   "outputs": [
    {
     "data": {
      "text/plain": [
       "['Índice',\n",
       " 'Anterior',\n",
       " 'Duración Anterior',\n",
       " 'Último',\n",
       " 'Duración Último',\n",
       " '% Dif.',\n",
       " 'Dif. Valor',\n",
       " 'Fecha']"
      ]
     },
     "execution_count": 29,
     "metadata": {},
     "output_type": "execute_result"
    }
   ],
   "source": [
    "columns_title=[]\n",
    "for t_col in range(1, (columns + 1)):\n",
    "    columns_title.append(driver.find_element(By.XPATH,\"//*[@id='root']/div[3]/table/thead/tr/th[\"+str(t_col)+\"]\").text)\n",
    "columns_title"
   ]
  },
  {
   "cell_type": "code",
   "execution_count": 30,
   "id": "b857442a",
   "metadata": {
    "scrolled": false
   },
   "outputs": [
    {
     "data": {
      "text/html": [
       "<div>\n",
       "<style scoped>\n",
       "    .dataframe tbody tr th:only-of-type {\n",
       "        vertical-align: middle;\n",
       "    }\n",
       "\n",
       "    .dataframe tbody tr th {\n",
       "        vertical-align: top;\n",
       "    }\n",
       "\n",
       "    .dataframe thead th {\n",
       "        text-align: right;\n",
       "    }\n",
       "</style>\n",
       "<table border=\"1\" class=\"dataframe\">\n",
       "  <thead>\n",
       "    <tr style=\"text-align: right;\">\n",
       "      <th></th>\n",
       "      <th>0</th>\n",
       "      <th>1</th>\n",
       "      <th>2</th>\n",
       "      <th>3</th>\n",
       "      <th>4</th>\n",
       "    </tr>\n",
       "  </thead>\n",
       "  <tbody>\n",
       "    <tr>\n",
       "      <th>0</th>\n",
       "      <td>AIAF 2000®</td>\n",
       "      <td>AIAF 2000® Corto</td>\n",
       "      <td>AIAF 2000® Medio</td>\n",
       "      <td>AIAF 2000® Largo</td>\n",
       "      <td>AIAF 2000® Extra Largo</td>\n",
       "    </tr>\n",
       "    <tr>\n",
       "      <th>1</th>\n",
       "      <td>5.979,50</td>\n",
       "      <td>4.738,20</td>\n",
       "      <td>5.722,39</td>\n",
       "      <td>6.984,30</td>\n",
       "      <td>9.073,79</td>\n",
       "    </tr>\n",
       "    <tr>\n",
       "      <th>2</th>\n",
       "      <td>3,76</td>\n",
       "      <td>1,91</td>\n",
       "      <td>3,60</td>\n",
       "      <td>7,16</td>\n",
       "      <td>11,03</td>\n",
       "    </tr>\n",
       "    <tr>\n",
       "      <th>3</th>\n",
       "      <td>6.006,13</td>\n",
       "      <td>4.750,01</td>\n",
       "      <td>5.750,87</td>\n",
       "      <td>7.045,55</td>\n",
       "      <td>9.166,22</td>\n",
       "    </tr>\n",
       "    <tr>\n",
       "      <th>4</th>\n",
       "      <td>3,74</td>\n",
       "      <td>1,91</td>\n",
       "      <td>3,60</td>\n",
       "      <td>7,17</td>\n",
       "      <td>11,04</td>\n",
       "    </tr>\n",
       "  </tbody>\n",
       "</table>\n",
       "</div>"
      ],
      "text/plain": [
       "            0                 1                 2                 3  \\\n",
       "0  AIAF 2000®  AIAF 2000® Corto  AIAF 2000® Medio  AIAF 2000® Largo   \n",
       "1    5.979,50          4.738,20          5.722,39          6.984,30   \n",
       "2        3,76              1,91              3,60              7,16   \n",
       "3    6.006,13          4.750,01          5.750,87          7.045,55   \n",
       "4        3,74              1,91              3,60              7,17   \n",
       "\n",
       "                        4  \n",
       "0  AIAF 2000® Extra Largo  \n",
       "1                9.073,79  \n",
       "2                   11,03  \n",
       "3                9.166,22  \n",
       "4                   11,04  "
      ]
     },
     "execution_count": 30,
     "metadata": {},
     "output_type": "execute_result"
    }
   ],
   "source": [
    "df_fija= pd.DataFrame(total_columns)\n",
    "df_fija.head()"
   ]
  },
  {
   "cell_type": "code",
   "execution_count": 31,
   "id": "d0227016",
   "metadata": {
    "scrolled": false
   },
   "outputs": [
    {
     "name": "stdout",
     "output_type": "stream",
     "text": [
      "<class 'pandas.core.frame.DataFrame'>\n",
      "RangeIndex: 5 entries, 0 to 4\n",
      "Data columns (total 8 columns):\n",
      " #   Column  Non-Null Count  Dtype \n",
      "---  ------  --------------  ----- \n",
      " 0   0       5 non-null      object\n",
      " 1   1       5 non-null      object\n",
      " 2   2       5 non-null      object\n",
      " 3   3       5 non-null      object\n",
      " 4   4       5 non-null      object\n",
      " 5   5       5 non-null      object\n",
      " 6   6       5 non-null      object\n",
      " 7   7       5 non-null      object\n",
      "dtypes: object(8)\n",
      "memory usage: 448.0+ bytes\n"
     ]
    }
   ],
   "source": [
    "df1_fija=df_fija.transpose()\n",
    "df1_fija.info()"
   ]
  },
  {
   "cell_type": "code",
   "execution_count": 32,
   "id": "3cc77ebc",
   "metadata": {
    "scrolled": true
   },
   "outputs": [
    {
     "data": {
      "text/html": [
       "<div>\n",
       "<style scoped>\n",
       "    .dataframe tbody tr th:only-of-type {\n",
       "        vertical-align: middle;\n",
       "    }\n",
       "\n",
       "    .dataframe tbody tr th {\n",
       "        vertical-align: top;\n",
       "    }\n",
       "\n",
       "    .dataframe thead th {\n",
       "        text-align: right;\n",
       "    }\n",
       "</style>\n",
       "<table border=\"1\" class=\"dataframe\">\n",
       "  <thead>\n",
       "    <tr style=\"text-align: right;\">\n",
       "      <th></th>\n",
       "      <th>Índice</th>\n",
       "      <th>Anterior</th>\n",
       "      <th>Duración Anterior</th>\n",
       "      <th>Último</th>\n",
       "      <th>Duración Último</th>\n",
       "      <th>% Dif.</th>\n",
       "      <th>Dif. Valor</th>\n",
       "      <th>Fecha</th>\n",
       "    </tr>\n",
       "  </thead>\n",
       "  <tbody>\n",
       "    <tr>\n",
       "      <th>0</th>\n",
       "      <td>AIAF 2000®</td>\n",
       "      <td>5.979,50</td>\n",
       "      <td>3,76</td>\n",
       "      <td>6.006,13</td>\n",
       "      <td>3,74</td>\n",
       "      <td>0,44%</td>\n",
       "      <td>26,63</td>\n",
       "      <td>06/04/2023</td>\n",
       "    </tr>\n",
       "    <tr>\n",
       "      <th>1</th>\n",
       "      <td>AIAF 2000® Corto</td>\n",
       "      <td>4.738,20</td>\n",
       "      <td>1,91</td>\n",
       "      <td>4.750,01</td>\n",
       "      <td>1,91</td>\n",
       "      <td>0,25%</td>\n",
       "      <td>11,81</td>\n",
       "      <td>06/04/2023</td>\n",
       "    </tr>\n",
       "    <tr>\n",
       "      <th>2</th>\n",
       "      <td>AIAF 2000® Medio</td>\n",
       "      <td>5.722,39</td>\n",
       "      <td>3,60</td>\n",
       "      <td>5.750,87</td>\n",
       "      <td>3,60</td>\n",
       "      <td>0,50%</td>\n",
       "      <td>28,48</td>\n",
       "      <td>06/04/2023</td>\n",
       "    </tr>\n",
       "    <tr>\n",
       "      <th>3</th>\n",
       "      <td>AIAF 2000® Largo</td>\n",
       "      <td>6.984,30</td>\n",
       "      <td>7,16</td>\n",
       "      <td>7.045,55</td>\n",
       "      <td>7,17</td>\n",
       "      <td>0,87%</td>\n",
       "      <td>61,25</td>\n",
       "      <td>06/04/2023</td>\n",
       "    </tr>\n",
       "    <tr>\n",
       "      <th>4</th>\n",
       "      <td>AIAF 2000® Extra Largo</td>\n",
       "      <td>9.073,79</td>\n",
       "      <td>11,03</td>\n",
       "      <td>9.166,22</td>\n",
       "      <td>11,04</td>\n",
       "      <td>1,01%</td>\n",
       "      <td>92,43</td>\n",
       "      <td>06/04/2023</td>\n",
       "    </tr>\n",
       "  </tbody>\n",
       "</table>\n",
       "</div>"
      ],
      "text/plain": [
       "                   Índice  Anterior Duración Anterior    Último  \\\n",
       "0              AIAF 2000®  5.979,50              3,76  6.006,13   \n",
       "1        AIAF 2000® Corto  4.738,20              1,91  4.750,01   \n",
       "2        AIAF 2000® Medio  5.722,39              3,60  5.750,87   \n",
       "3        AIAF 2000® Largo  6.984,30              7,16  7.045,55   \n",
       "4  AIAF 2000® Extra Largo  9.073,79             11,03  9.166,22   \n",
       "\n",
       "  Duración Último % Dif. Dif. Valor       Fecha  \n",
       "0            3,74  0,44%      26,63  06/04/2023  \n",
       "1            1,91  0,25%      11,81  06/04/2023  \n",
       "2            3,60  0,50%      28,48  06/04/2023  \n",
       "3            7,17  0,87%      61,25  06/04/2023  \n",
       "4           11,04  1,01%      92,43  06/04/2023  "
      ]
     },
     "execution_count": 32,
     "metadata": {},
     "output_type": "execute_result"
    }
   ],
   "source": [
    "df1_fija.columns=columns_title\n",
    "df1_fija"
   ]
  },
  {
   "cell_type": "code",
   "execution_count": 44,
   "id": "eb449a93",
   "metadata": {},
   "outputs": [
    {
     "name": "stdout",
     "output_type": "stream",
     "text": [
      "<class 'pandas.core.frame.DataFrame'>\n",
      "RangeIndex: 5 entries, 0 to 4\n",
      "Data columns (total 8 columns):\n",
      " #   Column             Non-Null Count  Dtype \n",
      "---  ------             --------------  ----- \n",
      " 0   Índice             5 non-null      object\n",
      " 1   Anterior           5 non-null      object\n",
      " 2   Duración Anterior  5 non-null      object\n",
      " 3   Último             5 non-null      object\n",
      " 4   Duración Último    5 non-null      object\n",
      " 5   % Dif.             5 non-null      object\n",
      " 6   Dif. Valor         5 non-null      object\n",
      " 7   Fecha              5 non-null      object\n",
      "dtypes: object(8)\n",
      "memory usage: 448.0+ bytes\n"
     ]
    }
   ],
   "source": [
    "df1_fija.info()"
   ]
  },
  {
   "cell_type": "markdown",
   "id": "f2deca36",
   "metadata": {},
   "source": [
    "Podríamos crear las siguientes 2 tablas siguiendo el mismo proceso."
   ]
  },
  {
   "cell_type": "code",
   "execution_count": 34,
   "id": "a32482e4",
   "metadata": {},
   "outputs": [
    {
     "data": {
      "text/plain": [
       "<bound method ChromiumDriver.quit of <selenium.webdriver.chrome.webdriver.WebDriver (session=\"4ed30a6708cdc88c3a21241ee4662383\")>>"
      ]
     },
     "execution_count": 34,
     "metadata": {},
     "output_type": "execute_result"
    }
   ],
   "source": [
    "driver.quit"
   ]
  },
  {
   "cell_type": "code",
   "execution_count": 41,
   "id": "5f24742a",
   "metadata": {},
   "outputs": [],
   "source": [
    "df1_variable.to_csv('Renta_variable.csv')"
   ]
  },
  {
   "cell_type": "code",
   "execution_count": 43,
   "id": "2e11126f",
   "metadata": {},
   "outputs": [],
   "source": [
    "df1_fija.to_csv('Renta_fija.csv')"
   ]
  },
  {
   "cell_type": "code",
   "execution_count": null,
   "id": "3cc37500",
   "metadata": {},
   "outputs": [],
   "source": []
  }
 ],
 "metadata": {
  "kernelspec": {
   "display_name": "Python 3 (ipykernel)",
   "language": "python",
   "name": "python3"
  },
  "language_info": {
   "codemirror_mode": {
    "name": "ipython",
    "version": 3
   },
   "file_extension": ".py",
   "mimetype": "text/x-python",
   "name": "python",
   "nbconvert_exporter": "python",
   "pygments_lexer": "ipython3",
   "version": "3.9.13"
  }
 },
 "nbformat": 4,
 "nbformat_minor": 5
}

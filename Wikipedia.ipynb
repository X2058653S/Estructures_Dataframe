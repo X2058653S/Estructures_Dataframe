{
 "cells": [
  {
   "cell_type": "markdown",
   "id": "97b8eea1",
   "metadata": {},
   "source": [
    "## EXERCICI 1 : WIKIPEDIA"
   ]
  },
  {
   "cell_type": "markdown",
   "id": "00da2c8b",
   "metadata": {},
   "source": [
    "En este ejercicio nos planteamos extraer, con la ayuda de Selenium, información de la web https://es.wikipedia.org/wiki/Fornells. \n"
   ]
  },
  {
   "cell_type": "code",
   "execution_count": 1,
   "id": "aa793797",
   "metadata": {},
   "outputs": [],
   "source": [
    "import selenium\n",
    "from selenium import webdriver\n",
    "from selenium.webdriver import Chrome\n",
    "from selenium.webdriver.common.by import By\n",
    "from selenium.webdriver.support.relative_locator import locate_with\n",
    "\n",
    "import pandas as pd"
   ]
  },
  {
   "cell_type": "code",
   "execution_count": 3,
   "id": "f646ccb9",
   "metadata": {},
   "outputs": [],
   "source": [
    "driver=webdriver.Chrome()"
   ]
  },
  {
   "cell_type": "code",
   "execution_count": 4,
   "id": "c43e0426",
   "metadata": {},
   "outputs": [],
   "source": [
    "driver.get('https://es.wikipedia.org/wiki/Fornells')"
   ]
  },
  {
   "cell_type": "markdown",
   "id": "f3012036",
   "metadata": {},
   "source": [
    "## ANALISIS EXPLORATORIO DE LA WEB "
   ]
  },
  {
   "cell_type": "code",
   "execution_count": 5,
   "id": "7f3bff71",
   "metadata": {
    "scrolled": true
   },
   "outputs": [
    {
     "name": "stdout",
     "output_type": "stream",
     "text": [
      "Fornells - Wikipedia, la enciclopedia libre\n"
     ]
    }
   ],
   "source": [
    "print(driver.title)"
   ]
  },
  {
   "cell_type": "code",
   "execution_count": 6,
   "id": "7f387f12",
   "metadata": {},
   "outputs": [
    {
     "name": "stdout",
     "output_type": "stream",
     "text": [
      "Fornells\n"
     ]
    }
   ],
   "source": [
    "main_header=driver.find_element(By.TAG_NAME,'h1')\n",
    "print(main_header.text)"
   ]
  },
  {
   "cell_type": "code",
   "execution_count": 7,
   "id": "00f7c79a",
   "metadata": {
    "scrolled": true
   },
   "outputs": [
    {
     "name": "stdout",
     "output_type": "stream",
     "text": [
      "Índice\n",
      "Historia[editar]\n",
      "Demografía[editar]\n",
      "Evolución de la población[editar]\n",
      "Geología[editar]\n",
      "Fauna[editar]\n",
      "Cultura[editar]\n",
      "Deportes[editar]\n",
      "Cartografía[editar]\n",
      "Véase también[editar]\n",
      "Notas[editar]\n",
      "Referencias[editar]\n",
      "Enlaces externos[editar]\n",
      "\n"
     ]
    }
   ],
   "source": [
    "headers=driver.find_elements(By.TAG_NAME,'h2')\n",
    "for e in headers:\n",
    "    print(e.text)"
   ]
  },
  {
   "cell_type": "markdown",
   "id": "d6f01d70",
   "metadata": {},
   "source": [
    "Fornells es una pequeña población ubicada en las Islas Baleares, concretamente en la Isla de Menorca. Esta página de Wikipedia recopila información sobre esta población de forma estructurada.\n",
    "\n",
    "Después de realizar una primera inspección de la Web, constatamos que está organizada en 12 secciones identificadas por encabezados de tipo 'h2', debajo del título principal \"Fornells\" de tipo 'h1'.\n",
    "\n",
    "Cada sección alberga una serie de párrafos de tipo 'p', los cuales hacen referencia a unos links a otras páginas de Wikipedia para quien quiera profundizar en cada uno de los contenidos descritos.\n"
   ]
  },
  {
   "cell_type": "markdown",
   "id": "13dbf745",
   "metadata": {},
   "source": [
    "## PLANTEAMIENTO"
   ]
  },
  {
   "cell_type": "markdown",
   "id": "3cfb65bc",
   "metadata": {},
   "source": [
    "Nos planteamos crear un dataset que recoja, para cada uno de los párrafos pertenecientes a una de las 12 secciones:   \n",
    "\n",
    "   - El enunciado del párrafo  \n",
    "   - El encabezado de la sección a la que pertenece  \n",
    "   - La relación de links de interés ubicados en el párrafo\n",
    " \n",
    "En base al dataset generado nos planteamos además crear una función que permita al usuario extraer la información del párrafo de su interés."
   ]
  },
  {
   "cell_type": "markdown",
   "id": "f6c95b08",
   "metadata": {},
   "source": [
    "## Lista de párrafos"
   ]
  },
  {
   "cell_type": "markdown",
   "id": "0b2d163e",
   "metadata": {},
   "source": [
    "Localizamos el enunciado de cada uno de los 19 párrafos que pertenecen a alguna de las 12 secciones, es decir, los que están situados por debajo del primer encabezado 'Historia', que recogemos en la lista correspondiente 'párrafos_list':"
   ]
  },
  {
   "cell_type": "code",
   "execution_count": 8,
   "id": "e2cb9ddd",
   "metadata": {},
   "outputs": [],
   "source": [
    "start_point=driver.find_element(By.XPATH,'//*[@id=\"Historia\"]')"
   ]
  },
  {
   "cell_type": "code",
   "execution_count": 9,
   "id": "15cbc018",
   "metadata": {},
   "outputs": [
    {
     "data": {
      "text/plain": [
       "[<selenium.webdriver.remote.webelement.WebElement (session=\"dcd1736c835139797fda0d2ff60b8e64\", element=\"cb205040-04f6-445a-aed4-92f980c9ef55\")>,\n",
       " <selenium.webdriver.remote.webelement.WebElement (session=\"dcd1736c835139797fda0d2ff60b8e64\", element=\"b1100ed5-e470-4247-bd11-a9e60f285308\")>,\n",
       " <selenium.webdriver.remote.webelement.WebElement (session=\"dcd1736c835139797fda0d2ff60b8e64\", element=\"b4a1440f-c5c8-4cdc-8bf3-a101f955f084\")>,\n",
       " <selenium.webdriver.remote.webelement.WebElement (session=\"dcd1736c835139797fda0d2ff60b8e64\", element=\"8fbe925d-b560-49f6-9cff-ecdd11f88e93\")>,\n",
       " <selenium.webdriver.remote.webelement.WebElement (session=\"dcd1736c835139797fda0d2ff60b8e64\", element=\"5df472d7-7905-4fc3-8990-92a516ab14ad\")>,\n",
       " <selenium.webdriver.remote.webelement.WebElement (session=\"dcd1736c835139797fda0d2ff60b8e64\", element=\"d1dc0d63-e679-439c-a73e-e7fd4d4b2f06\")>,\n",
       " <selenium.webdriver.remote.webelement.WebElement (session=\"dcd1736c835139797fda0d2ff60b8e64\", element=\"d8f54b8f-602e-4281-b3f2-1b96df4d8011\")>,\n",
       " <selenium.webdriver.remote.webelement.WebElement (session=\"dcd1736c835139797fda0d2ff60b8e64\", element=\"57435226-3ec4-4f03-b23e-aee46a32a73a\")>,\n",
       " <selenium.webdriver.remote.webelement.WebElement (session=\"dcd1736c835139797fda0d2ff60b8e64\", element=\"88b9a458-1a3c-4389-b325-63ab1c21d0a0\")>,\n",
       " <selenium.webdriver.remote.webelement.WebElement (session=\"dcd1736c835139797fda0d2ff60b8e64\", element=\"9ea908ff-492f-44e9-bb39-38c586b036e1\")>,\n",
       " <selenium.webdriver.remote.webelement.WebElement (session=\"dcd1736c835139797fda0d2ff60b8e64\", element=\"0c07efff-d4ba-48f0-9ccf-4ba8ae0e8143\")>,\n",
       " <selenium.webdriver.remote.webelement.WebElement (session=\"dcd1736c835139797fda0d2ff60b8e64\", element=\"9ebdc3c1-1874-4159-b3a7-3009cc9ca1fd\")>,\n",
       " <selenium.webdriver.remote.webelement.WebElement (session=\"dcd1736c835139797fda0d2ff60b8e64\", element=\"332542ea-082d-4332-847b-23ed579fd1fb\")>,\n",
       " <selenium.webdriver.remote.webelement.WebElement (session=\"dcd1736c835139797fda0d2ff60b8e64\", element=\"e017db8f-298f-4808-8dd4-583882e9d730\")>,\n",
       " <selenium.webdriver.remote.webelement.WebElement (session=\"dcd1736c835139797fda0d2ff60b8e64\", element=\"cfb75362-3089-4b5d-aa07-a1e0b8359bec\")>,\n",
       " <selenium.webdriver.remote.webelement.WebElement (session=\"dcd1736c835139797fda0d2ff60b8e64\", element=\"83787892-0da6-4102-a6a2-77ad96b5fe06\")>,\n",
       " <selenium.webdriver.remote.webelement.WebElement (session=\"dcd1736c835139797fda0d2ff60b8e64\", element=\"0e06705f-b98f-430c-a855-07e33407cfda\")>,\n",
       " <selenium.webdriver.remote.webelement.WebElement (session=\"dcd1736c835139797fda0d2ff60b8e64\", element=\"c7685f98-9a62-4fd5-ac30-0e37fbdab371\")>,\n",
       " <selenium.webdriver.remote.webelement.WebElement (session=\"dcd1736c835139797fda0d2ff60b8e64\", element=\"9803e560-2301-4c78-b145-263e336ad257\")>]"
      ]
     },
     "execution_count": 9,
     "metadata": {},
     "output_type": "execute_result"
    }
   ],
   "source": [
    "párrafos=driver.find_elements(locate_with(By.TAG_NAME,\"p\").below(start_point))\n",
    "párrafos"
   ]
  },
  {
   "cell_type": "code",
   "execution_count": 10,
   "id": "65bc7515",
   "metadata": {
    "scrolled": true
   },
   "outputs": [
    {
     "data": {
      "text/plain": [
       "19"
      ]
     },
     "execution_count": 10,
     "metadata": {},
     "output_type": "execute_result"
    }
   ],
   "source": [
    "len(párrafos)"
   ]
  },
  {
   "cell_type": "code",
   "execution_count": 11,
   "id": "21e94abd",
   "metadata": {
    "scrolled": true
   },
   "outputs": [
    {
     "name": "stdout",
     "output_type": "stream",
     "text": [
      "Se tiene presencia de población al menos desde el siglo v. d. C. tal y como da testimonio la iglesia paleocristiana del puerto. Durante la Edad Media se construyó la atalaya de la Mola de Fornells, que vigilaba y protegía la costa norte de Menorca. A partir del saqueo del corsario Barbarroja sobre Mahón y el ataque pirata a Ciudadela en 1558 se decidió la construcción del Castillo de San Antonio de Fornells. En 1662 ya estaba construido y en estado de defensa militar.\n",
      "La presencia del castillo de San Antonio en Fornells dio pie al nacimiento cerca del castillo de un arrabal que se puede considerar como el origen del actual casco antiguo del pueblo. Entre 1630 y 1640 se constatan las primeras casas fornelleras y en 1713 ya se contabilizaban más de 100 habitantes. Los primeros vecinos de Fornells fueron soldados, y los familiares de estos, provenientes del Castillo de San Felipe de Villacarlos, en el puerto de Mahón, que se mudaron al norte de la isla junto al resto de miembros de sus familias instalándose en el arrabal.\n",
      "Se desconoce la fecha de inicio de construcción de la Iglesia de San Antonio pero sí se sabe que en 1647 la iglesia estaba ya en disposición de ser usada para el culto religioso. En la actualidad, durante las fiestas patronales de Fornells tiene lugar una mezcla de signos religiosos y civiles que ponen de manifiesto la estrecha relación entre esta iglesia y sus feligreses.\n",
      "La Torre de Defensa de Fornells es una de las torres de defensa más grandes de la isla y fue construida durante la época británica, entre 1801 y 1802, con el objetivo de vigilar y proteger la entrada del puerto; por ello se encuentra situada en un punto elevado, con buenas vistas, y su forma es reforzada, como si se tratara de un pequeño castillo inexpugnable. El edificio tiene forma troncocónica, construido con piedra mortero y refuerzos de arenisca.\n",
      "Según el Instituto Nacional de Estadística de España, en el año 2012 Fornells contaba con 976 habitantes censados.4\n",
      "\n",
      "Datos según el nomenclátor publicado por el INE.\n",
      "Desde el punto de vista geológico Fornells está formado por dolomías, rocas carbonatadas del Jurásico, permeables y fácilmente erosionables por lo que el agua con el transcurrir del tiempo ha labrado en su seno numerosos barrancos y cuevas entre las que destacan la Cueva de los Ingleses y Na Polida. A Fornells pertenecen también los islotes de Sargantanas, Revells, Porros y Tosqueta. El suelo predominante es leptosol eútrico combinado con cambisol crómico fisurado.\n",
      "Con respecto a la fauna acuática destaca la presencia en la bahía de Fornells de una de las dos poblaciones baleares de Pomatoschistus microps. En las praderas sumergidas de fanerógamas marinas viven las mayores colonias de agujas de río (Syngnathus abaster).\n",
      "Por lo que respecta a la fauna invertebrada y, en especial, las especies cavernícolas, la Sima de la Albufereta es la cueva más importante. También se encuentra en el municipio una especie de arácnido, Theonoe major y un crustáceo Odontozona addaia no descritos en ningún otro lugar del mundo.\n",
      "En lo que respecta a las aves, la gaviota patiamarilla (Larus michahellis) es habitual en su puerto pesquero mientras que el papamoscas gris (Muscicapa striata),nota 1 de la subespecie balear, Muscicapa striata balearica es habitual en la época estival en los terrenos rocosos con matorrales situados entre el núcleo urbano y la Torre de Fornells.\n",
      "Edificaciones:\n",
      "Lugares naturales:\n",
      "Fornells es la capital gastronómica de la isla de Menorca. Los pescados y mariscos frescos forman parte de una tradición culinaria en la que destaca la caldereta de langosta.\n",
      "Pocos sitios ofrecen un marco tan apropiado para practicar vela, submarinismo, kayak o esquí acuático, como el puerto de Fornells. Tampoco falta variedad en tierra: ciclismo, equitación, golf, excursiones, deportes de aventura, etc. Fornells además, constituye una estación náutica.\n",
      "Hoja de cartografía terrestre del CNIGː\n",
      "Hoja n.º 618 de la serie MTN50 del Insitituto Geográfico Nacional. (Descarga gratuita en formato digital en Centro de descargas del Centro Nacional de Información Geográfica)\n",
      "«Centro de descargas del Centro Nacional de Información Geográfica» (en español, inglés y francés).\n",
      "Cartas náuticas del Instituto Hidrográfico de la Marina;\n"
     ]
    }
   ],
   "source": [
    "for e in párrafos:\n",
    "    print(e.text)"
   ]
  },
  {
   "cell_type": "code",
   "execution_count": 12,
   "id": "e53ccaf8",
   "metadata": {
    "scrolled": false
   },
   "outputs": [
    {
     "data": {
      "text/plain": [
       "['Se tiene presencia de población al menos desde el siglo v. d. C. tal y como da testimonio la iglesia paleocristiana del puerto. Durante la Edad Media se construyó la atalaya de la Mola de Fornells, que vigilaba y protegía la costa norte de Menorca. A partir del saqueo del corsario Barbarroja sobre Mahón y el ataque pirata a Ciudadela en 1558 se decidió la construcción del Castillo de San Antonio de Fornells. En 1662 ya estaba construido y en estado de defensa militar.',\n",
       " 'La presencia del castillo de San Antonio en Fornells dio pie al nacimiento cerca del castillo de un arrabal que se puede considerar como el origen del actual casco antiguo del pueblo. Entre 1630 y 1640 se constatan las primeras casas fornelleras y en 1713 ya se contabilizaban más de 100 habitantes. Los primeros vecinos de Fornells fueron soldados, y los familiares de estos, provenientes del Castillo de San Felipe de Villacarlos, en el puerto de Mahón, que se mudaron al norte de la isla junto al resto de miembros de sus familias instalándose en el arrabal.',\n",
       " 'Se desconoce la fecha de inicio de construcción de la Iglesia de San Antonio pero sí se sabe que en 1647 la iglesia estaba ya en disposición de ser usada para el culto religioso. En la actualidad, durante las fiestas patronales de Fornells tiene lugar una mezcla de signos religiosos y civiles que ponen de manifiesto la estrecha relación entre esta iglesia y sus feligreses.',\n",
       " 'La Torre de Defensa de Fornells es una de las torres de defensa más grandes de la isla y fue construida durante la época británica, entre 1801 y 1802, con el objetivo de vigilar y proteger la entrada del puerto; por ello se encuentra situada en un punto elevado, con buenas vistas, y su forma es reforzada, como si se tratara de un pequeño castillo inexpugnable. El edificio tiene forma troncocónica, construido con piedra mortero y refuerzos de arenisca.',\n",
       " 'Según el Instituto Nacional de Estadística de España, en el año 2012 Fornells contaba con 976 habitantes censados.4',\n",
       " '',\n",
       " 'Datos según el nomenclátor publicado por el INE.',\n",
       " 'Desde el punto de vista geológico Fornells está formado por dolomías, rocas carbonatadas del Jurásico, permeables y fácilmente erosionables por lo que el agua con el transcurrir del tiempo ha labrado en su seno numerosos barrancos y cuevas entre las que destacan la Cueva de los Ingleses y Na Polida. A Fornells pertenecen también los islotes de Sargantanas, Revells, Porros y Tosqueta. El suelo predominante es leptosol eútrico combinado con cambisol crómico fisurado.',\n",
       " 'Con respecto a la fauna acuática destaca la presencia en la bahía de Fornells de una de las dos poblaciones baleares de Pomatoschistus microps. En las praderas sumergidas de fanerógamas marinas viven las mayores colonias de agujas de río (Syngnathus abaster).',\n",
       " 'Por lo que respecta a la fauna invertebrada y, en especial, las especies cavernícolas, la Sima de la Albufereta es la cueva más importante. También se encuentra en el municipio una especie de arácnido, Theonoe major y un crustáceo Odontozona addaia no descritos en ningún otro lugar del mundo.',\n",
       " 'En lo que respecta a las aves, la gaviota patiamarilla (Larus michahellis) es habitual en su puerto pesquero mientras que el papamoscas gris (Muscicapa striata),nota 1 de la subespecie balear, Muscicapa striata balearica es habitual en la época estival en los terrenos rocosos con matorrales situados entre el núcleo urbano y la Torre de Fornells.',\n",
       " 'Edificaciones:',\n",
       " 'Lugares naturales:',\n",
       " 'Fornells es la capital gastronómica de la isla de Menorca. Los pescados y mariscos frescos forman parte de una tradición culinaria en la que destaca la caldereta de langosta.',\n",
       " 'Pocos sitios ofrecen un marco tan apropiado para practicar vela, submarinismo, kayak o esquí acuático, como el puerto de Fornells. Tampoco falta variedad en tierra: ciclismo, equitación, golf, excursiones, deportes de aventura, etc. Fornells además, constituye una estación náutica.',\n",
       " 'Hoja de cartografía terrestre del CNIGː',\n",
       " 'Hoja n.º 618 de la serie MTN50 del Insitituto Geográfico Nacional. (Descarga gratuita en formato digital en Centro de descargas del Centro Nacional de Información Geográfica)',\n",
       " '«Centro de descargas del Centro Nacional de Información Geográfica» (en español, inglés y francés).',\n",
       " 'Cartas náuticas del Instituto Hidrográfico de la Marina;']"
      ]
     },
     "execution_count": 12,
     "metadata": {},
     "output_type": "execute_result"
    }
   ],
   "source": [
    "párrafos_list=[]\n",
    "for e in párrafos:\n",
    "    párrafos_list.append(e.text)\n",
    "párrafos_list"
   ]
  },
  {
   "cell_type": "markdown",
   "id": "05e71766",
   "metadata": {},
   "source": [
    "## Lista de encabezados"
   ]
  },
  {
   "cell_type": "markdown",
   "id": "96d2ad2d",
   "metadata": {},
   "source": [
    "Para cada párrafo, nos planteamos localizar la sección a la que pertenece, parra ello recurrimos al localizador relativo 'above' que nos permite localizar el apartado situado por encima de cada párrafo.\n",
    "\n",
    "Creamos la lista correspondiente 'headers_list':"
   ]
  },
  {
   "cell_type": "code",
   "execution_count": 13,
   "id": "b5d89bf0",
   "metadata": {},
   "outputs": [
    {
     "data": {
      "text/plain": [
       "['Historia',\n",
       " 'Historia',\n",
       " 'Historia',\n",
       " 'Historia',\n",
       " 'Demografía',\n",
       " 'Demografía',\n",
       " 'Evolución de la población',\n",
       " 'Geología',\n",
       " 'Fauna',\n",
       " 'Fauna',\n",
       " 'Fauna',\n",
       " 'Monumentos y lugares de interés',\n",
       " 'Monumentos y lugares de interés',\n",
       " 'Gastronomía',\n",
       " 'Deportes',\n",
       " 'Cartografía',\n",
       " 'Cartografía',\n",
       " 'Cartografía',\n",
       " 'Cartografía']"
      ]
     },
     "execution_count": 13,
     "metadata": {},
     "output_type": "execute_result"
    }
   ],
   "source": [
    "headers_list=[]\n",
    "for e in párrafos:\n",
    "    headers_list.append(driver.find_element(locate_with(By.CLASS_NAME,\"mw-headline\").above(e)).text)\n",
    "headers_list"
   ]
  },
  {
   "cell_type": "code",
   "execution_count": 14,
   "id": "62c58ef2",
   "metadata": {},
   "outputs": [
    {
     "data": {
      "text/plain": [
       "19"
      ]
     },
     "execution_count": 14,
     "metadata": {},
     "output_type": "execute_result"
    }
   ],
   "source": [
    "len(headers_list)"
   ]
  },
  {
   "cell_type": "markdown",
   "id": "5e83e7c0",
   "metadata": {},
   "source": [
    "## Lista de links"
   ]
  },
  {
   "cell_type": "markdown",
   "id": "ac414cc9",
   "metadata": {},
   "source": [
    "Creamos una función que nos permita extraer los links pertenecientes a cada párrafo, extraiendo el atributo 'href' de cada elemento tipo 'a'.\n",
    "\n",
    "Para cada párrafos obtenemos una lista de links, que anidaremos en la lista 'total_link_list':"
   ]
  },
  {
   "cell_type": "code",
   "execution_count": 15,
   "id": "92f3cacf",
   "metadata": {},
   "outputs": [],
   "source": [
    "def function(x):\n",
    "    link_list=[]\n",
    "    for e in párrafos[x].find_elements(By.TAG_NAME,'a'):\n",
    "        link_list.append(e.get_attribute('href'))\n",
    "    return link_list"
   ]
  },
  {
   "cell_type": "code",
   "execution_count": 16,
   "id": "1c715f2e",
   "metadata": {
    "scrolled": true
   },
   "outputs": [
    {
     "data": {
      "text/plain": [
       "[['https://es.wikipedia.org/wiki/Arte_paleocristiano',\n",
       "  'https://es.wikipedia.org/wiki/Edad_Media',\n",
       "  'https://es.wikipedia.org/wiki/Atalaya_(construcci%C3%B3n)',\n",
       "  'https://es.wikipedia.org/wiki/Jeiredd%C3%ADn_Barbarroja',\n",
       "  'https://es.wikipedia.org/wiki/Mah%C3%B3n',\n",
       "  'https://es.wikipedia.org/wiki/Ciudadela_(Espa%C3%B1a)',\n",
       "  'https://es.wikipedia.org/wiki/1558'],\n",
       " ['https://es.wikipedia.org/wiki/Arrabal',\n",
       "  'https://es.wikipedia.org/wiki/Casco_antiguo',\n",
       "  'https://es.wikipedia.org/wiki/1630',\n",
       "  'https://es.wikipedia.org/wiki/1640',\n",
       "  'https://es.wikipedia.org/wiki/1713',\n",
       "  'https://es.wikipedia.org/wiki/Soldado',\n",
       "  'https://es.wikipedia.org/wiki/Castillo_de_San_Felipe_(Menorca)',\n",
       "  'https://es.wikipedia.org/wiki/Villacarlos',\n",
       "  'https://es.wikipedia.org/wiki/Puerto_de_Mah%C3%B3n'],\n",
       " ['https://es.wikipedia.org/wiki/1647',\n",
       "  'https://es.wikipedia.org/wiki/Culto_religioso',\n",
       "  'https://es.wikipedia.org/wiki/Fiestas_patronales'],\n",
       " ['https://es.wikipedia.org/wiki/Torre_de_Fornells',\n",
       "  'https://es.wikipedia.org/wiki/Torres_de_defensa',\n",
       "  'https://es.wikipedia.org/wiki/Tratado_de_Utrecht',\n",
       "  'https://es.wikipedia.org/wiki/1801',\n",
       "  'https://es.wikipedia.org/wiki/1802',\n",
       "  'https://es.wikipedia.org/wiki/Troncoc%C3%B3nica',\n",
       "  'https://es.wikipedia.org/wiki/Mortero_(construcci%C3%B3n)',\n",
       "  'https://es.wikipedia.org/wiki/Arenisca'],\n",
       " ['https://es.wikipedia.org/wiki/Instituto_Nacional_de_Estad%C3%ADstica_(Espa%C3%B1a)',\n",
       "  'https://es.wikipedia.org/wiki/2012',\n",
       "  'https://es.wikipedia.org/wiki/Censo_(estad%C3%ADstica)',\n",
       "  'https://es.wikipedia.org/wiki/Fornells#cite_note-4'],\n",
       " [],\n",
       " ['https://es.wikipedia.org/wiki/Nomencl%C3%A1tor',\n",
       "  'https://es.wikipedia.org/wiki/Instituto_Nacional_de_Estad%C3%ADstica_(Espa%C3%B1a)'],\n",
       " ['https://es.wikipedia.org/wiki/Geolog%C3%ADa',\n",
       "  'https://es.wikipedia.org/wiki/Dolom%C3%ADa',\n",
       "  'https://es.wikipedia.org/wiki/Jur%C3%A1sico',\n",
       "  'https://es.wikipedia.org/wiki/Barranco_(geograf%C3%ADa)',\n",
       "  'https://es.wikipedia.org/wiki/Cueva',\n",
       "  'https://es.wikipedia.org/wiki/Cueva_de_los_Ingleses',\n",
       "  'https://es.wikipedia.org/wiki/Cueva_de_Na_Polida',\n",
       "  'https://es.wikipedia.org/wiki/Islote',\n",
       "  'https://es.wikipedia.org/w/index.php?title=Isla_Sargantana&action=edit&redlink=1',\n",
       "  'https://es.wikipedia.org/wiki/Isla_de_Sanitja',\n",
       "  'https://es.wikipedia.org/w/index.php?title=Isla_de_Tosqueta&action=edit&redlink=1',\n",
       "  'https://es.wikipedia.org/wiki/Cambisol'],\n",
       " ['https://es.wikipedia.org/wiki/Pomatoschistus_microps',\n",
       "  'https://es.wikipedia.org/wiki/Pradera_marina',\n",
       "  'https://es.wikipedia.org/wiki/Faner%C3%B3gama',\n",
       "  'https://es.wikipedia.org/wiki/Agujas_de_r%C3%ADo'],\n",
       " ['https://es.wikipedia.org/w/index.php?title=Theonoe_major&action=edit&redlink=1',\n",
       "  'https://es.wikipedia.org/w/index.php?title=Odontozona_addaia&action=edit&redlink=1'],\n",
       " ['https://es.wikipedia.org/wiki/Larus_michahellis',\n",
       "  'https://es.wikipedia.org/wiki/Muscicapa_striata',\n",
       "  'https://es.wikipedia.org/wiki/Fornells#cite_note-5',\n",
       "  'https://es.wikipedia.org/wiki/Torre_de_Fornells'],\n",
       " [],\n",
       " [],\n",
       " ['https://es.wikipedia.org/wiki/Pescado',\n",
       "  'https://es.wikipedia.org/wiki/Marisco',\n",
       "  'https://es.wikipedia.org/wiki/Caldereta_de_langosta'],\n",
       " ['https://es.wikipedia.org/wiki/Vela_(deporte)',\n",
       "  'https://es.wikipedia.org/wiki/Submarinismo',\n",
       "  'https://es.wikipedia.org/wiki/Kayak',\n",
       "  'https://es.wikipedia.org/wiki/Esqu%C3%AD_acu%C3%A1tico',\n",
       "  'https://es.wikipedia.org/wiki/Ciclismo',\n",
       "  'https://es.wikipedia.org/wiki/Equitaci%C3%B3n',\n",
       "  'https://es.wikipedia.org/wiki/Golf',\n",
       "  'https://es.wikipedia.org/wiki/Excursi%C3%B3n',\n",
       "  'https://es.wikipedia.org/wiki/Deporte_de_aventura'],\n",
       " [],\n",
       " ['https://es.wikipedia.org/wiki/Direcci%C3%B3n_General_del_Instituto_Geogr%C3%A1fico_Nacional',\n",
       "  'https://es.wikipedia.org/wiki/Centro_Nacional_de_Informaci%C3%B3n_Geogr%C3%A1fica'],\n",
       " ['http://centrodedescargas.cnig.es/CentroDescargas/index.jsp#'],\n",
       " []]"
      ]
     },
     "execution_count": 16,
     "metadata": {},
     "output_type": "execute_result"
    }
   ],
   "source": [
    "total_link_list=[]\n",
    "for i in range(len(párrafos)):\n",
    "       total_link_list.append(function(i))\n",
    "total_link_list"
   ]
  },
  {
   "cell_type": "code",
   "execution_count": 17,
   "id": "70edcb11",
   "metadata": {},
   "outputs": [
    {
     "data": {
      "text/plain": [
       "19"
      ]
     },
     "execution_count": 17,
     "metadata": {},
     "output_type": "execute_result"
    }
   ],
   "source": [
    "len(total_link_list)"
   ]
  },
  {
   "cell_type": "markdown",
   "id": "2d3bc0a1",
   "metadata": {},
   "source": [
    "## CONSTRUCCION DEL DATASET"
   ]
  },
  {
   "cell_type": "code",
   "execution_count": 18,
   "id": "43e15f82",
   "metadata": {
    "scrolled": true
   },
   "outputs": [
    {
     "data": {
      "text/html": [
       "<div>\n",
       "<style scoped>\n",
       "    .dataframe tbody tr th:only-of-type {\n",
       "        vertical-align: middle;\n",
       "    }\n",
       "\n",
       "    .dataframe tbody tr th {\n",
       "        vertical-align: top;\n",
       "    }\n",
       "\n",
       "    .dataframe thead th {\n",
       "        text-align: right;\n",
       "    }\n",
       "</style>\n",
       "<table border=\"1\" class=\"dataframe\">\n",
       "  <thead>\n",
       "    <tr style=\"text-align: right;\">\n",
       "      <th></th>\n",
       "      <th>headers</th>\n",
       "      <th>párrafos</th>\n",
       "      <th>links</th>\n",
       "    </tr>\n",
       "  </thead>\n",
       "  <tbody>\n",
       "    <tr>\n",
       "      <th>0</th>\n",
       "      <td>Historia</td>\n",
       "      <td>Se tiene presencia de población al menos desde...</td>\n",
       "      <td>[https://es.wikipedia.org/wiki/Arte_paleocrist...</td>\n",
       "    </tr>\n",
       "    <tr>\n",
       "      <th>1</th>\n",
       "      <td>Historia</td>\n",
       "      <td>La presencia del castillo de San Antonio en Fo...</td>\n",
       "      <td>[https://es.wikipedia.org/wiki/Arrabal, https:...</td>\n",
       "    </tr>\n",
       "    <tr>\n",
       "      <th>2</th>\n",
       "      <td>Historia</td>\n",
       "      <td>Se desconoce la fecha de inicio de construcció...</td>\n",
       "      <td>[https://es.wikipedia.org/wiki/1647, https://e...</td>\n",
       "    </tr>\n",
       "    <tr>\n",
       "      <th>3</th>\n",
       "      <td>Historia</td>\n",
       "      <td>La Torre de Defensa de Fornells es una de las ...</td>\n",
       "      <td>[https://es.wikipedia.org/wiki/Torre_de_Fornel...</td>\n",
       "    </tr>\n",
       "    <tr>\n",
       "      <th>4</th>\n",
       "      <td>Demografía</td>\n",
       "      <td>Según el Instituto Nacional de Estadística de ...</td>\n",
       "      <td>[https://es.wikipedia.org/wiki/Instituto_Nacio...</td>\n",
       "    </tr>\n",
       "    <tr>\n",
       "      <th>5</th>\n",
       "      <td>Demografía</td>\n",
       "      <td></td>\n",
       "      <td>[]</td>\n",
       "    </tr>\n",
       "    <tr>\n",
       "      <th>6</th>\n",
       "      <td>Evolución de la población</td>\n",
       "      <td>Datos según el nomenclátor publicado por el INE.</td>\n",
       "      <td>[https://es.wikipedia.org/wiki/Nomencl%C3%A1to...</td>\n",
       "    </tr>\n",
       "    <tr>\n",
       "      <th>7</th>\n",
       "      <td>Geología</td>\n",
       "      <td>Desde el punto de vista geológico Fornells est...</td>\n",
       "      <td>[https://es.wikipedia.org/wiki/Geolog%C3%ADa, ...</td>\n",
       "    </tr>\n",
       "    <tr>\n",
       "      <th>8</th>\n",
       "      <td>Fauna</td>\n",
       "      <td>Con respecto a la fauna acuática destaca la pr...</td>\n",
       "      <td>[https://es.wikipedia.org/wiki/Pomatoschistus_...</td>\n",
       "    </tr>\n",
       "    <tr>\n",
       "      <th>9</th>\n",
       "      <td>Fauna</td>\n",
       "      <td>Por lo que respecta a la fauna invertebrada y,...</td>\n",
       "      <td>[https://es.wikipedia.org/w/index.php?title=Th...</td>\n",
       "    </tr>\n",
       "    <tr>\n",
       "      <th>10</th>\n",
       "      <td>Fauna</td>\n",
       "      <td>En lo que respecta a las aves, la gaviota pati...</td>\n",
       "      <td>[https://es.wikipedia.org/wiki/Larus_michahell...</td>\n",
       "    </tr>\n",
       "    <tr>\n",
       "      <th>11</th>\n",
       "      <td>Monumentos y lugares de interés</td>\n",
       "      <td>Edificaciones:</td>\n",
       "      <td>[]</td>\n",
       "    </tr>\n",
       "    <tr>\n",
       "      <th>12</th>\n",
       "      <td>Monumentos y lugares de interés</td>\n",
       "      <td>Lugares naturales:</td>\n",
       "      <td>[]</td>\n",
       "    </tr>\n",
       "    <tr>\n",
       "      <th>13</th>\n",
       "      <td>Gastronomía</td>\n",
       "      <td>Fornells es la capital gastronómica de la isla...</td>\n",
       "      <td>[https://es.wikipedia.org/wiki/Pescado, https:...</td>\n",
       "    </tr>\n",
       "    <tr>\n",
       "      <th>14</th>\n",
       "      <td>Deportes</td>\n",
       "      <td>Pocos sitios ofrecen un marco tan apropiado pa...</td>\n",
       "      <td>[https://es.wikipedia.org/wiki/Vela_(deporte),...</td>\n",
       "    </tr>\n",
       "    <tr>\n",
       "      <th>15</th>\n",
       "      <td>Cartografía</td>\n",
       "      <td>Hoja de cartografía terrestre del CNIGː</td>\n",
       "      <td>[]</td>\n",
       "    </tr>\n",
       "    <tr>\n",
       "      <th>16</th>\n",
       "      <td>Cartografía</td>\n",
       "      <td>Hoja n.º 618 de la serie MTN50 del Insitituto ...</td>\n",
       "      <td>[https://es.wikipedia.org/wiki/Direcci%C3%B3n_...</td>\n",
       "    </tr>\n",
       "    <tr>\n",
       "      <th>17</th>\n",
       "      <td>Cartografía</td>\n",
       "      <td>«Centro de descargas del Centro Nacional de In...</td>\n",
       "      <td>[http://centrodedescargas.cnig.es/CentroDescar...</td>\n",
       "    </tr>\n",
       "    <tr>\n",
       "      <th>18</th>\n",
       "      <td>Cartografía</td>\n",
       "      <td>Cartas náuticas del Instituto Hidrográfico de ...</td>\n",
       "      <td>[]</td>\n",
       "    </tr>\n",
       "  </tbody>\n",
       "</table>\n",
       "</div>"
      ],
      "text/plain": [
       "                            headers  \\\n",
       "0                          Historia   \n",
       "1                          Historia   \n",
       "2                          Historia   \n",
       "3                          Historia   \n",
       "4                        Demografía   \n",
       "5                        Demografía   \n",
       "6         Evolución de la población   \n",
       "7                          Geología   \n",
       "8                             Fauna   \n",
       "9                             Fauna   \n",
       "10                            Fauna   \n",
       "11  Monumentos y lugares de interés   \n",
       "12  Monumentos y lugares de interés   \n",
       "13                      Gastronomía   \n",
       "14                         Deportes   \n",
       "15                      Cartografía   \n",
       "16                      Cartografía   \n",
       "17                      Cartografía   \n",
       "18                      Cartografía   \n",
       "\n",
       "                                             párrafos  \\\n",
       "0   Se tiene presencia de población al menos desde...   \n",
       "1   La presencia del castillo de San Antonio en Fo...   \n",
       "2   Se desconoce la fecha de inicio de construcció...   \n",
       "3   La Torre de Defensa de Fornells es una de las ...   \n",
       "4   Según el Instituto Nacional de Estadística de ...   \n",
       "5                                                       \n",
       "6    Datos según el nomenclátor publicado por el INE.   \n",
       "7   Desde el punto de vista geológico Fornells est...   \n",
       "8   Con respecto a la fauna acuática destaca la pr...   \n",
       "9   Por lo que respecta a la fauna invertebrada y,...   \n",
       "10  En lo que respecta a las aves, la gaviota pati...   \n",
       "11                                     Edificaciones:   \n",
       "12                                 Lugares naturales:   \n",
       "13  Fornells es la capital gastronómica de la isla...   \n",
       "14  Pocos sitios ofrecen un marco tan apropiado pa...   \n",
       "15            Hoja de cartografía terrestre del CNIGː   \n",
       "16  Hoja n.º 618 de la serie MTN50 del Insitituto ...   \n",
       "17  «Centro de descargas del Centro Nacional de In...   \n",
       "18  Cartas náuticas del Instituto Hidrográfico de ...   \n",
       "\n",
       "                                                links  \n",
       "0   [https://es.wikipedia.org/wiki/Arte_paleocrist...  \n",
       "1   [https://es.wikipedia.org/wiki/Arrabal, https:...  \n",
       "2   [https://es.wikipedia.org/wiki/1647, https://e...  \n",
       "3   [https://es.wikipedia.org/wiki/Torre_de_Fornel...  \n",
       "4   [https://es.wikipedia.org/wiki/Instituto_Nacio...  \n",
       "5                                                  []  \n",
       "6   [https://es.wikipedia.org/wiki/Nomencl%C3%A1to...  \n",
       "7   [https://es.wikipedia.org/wiki/Geolog%C3%ADa, ...  \n",
       "8   [https://es.wikipedia.org/wiki/Pomatoschistus_...  \n",
       "9   [https://es.wikipedia.org/w/index.php?title=Th...  \n",
       "10  [https://es.wikipedia.org/wiki/Larus_michahell...  \n",
       "11                                                 []  \n",
       "12                                                 []  \n",
       "13  [https://es.wikipedia.org/wiki/Pescado, https:...  \n",
       "14  [https://es.wikipedia.org/wiki/Vela_(deporte),...  \n",
       "15                                                 []  \n",
       "16  [https://es.wikipedia.org/wiki/Direcci%C3%B3n_...  \n",
       "17  [http://centrodedescargas.cnig.es/CentroDescar...  \n",
       "18                                                 []  "
      ]
     },
     "execution_count": 18,
     "metadata": {},
     "output_type": "execute_result"
    }
   ],
   "source": [
    "df=pd.DataFrame(dict(headers=headers_list,párrafos=párrafos_list,links=total_link_list,))\n",
    "df"
   ]
  },
  {
   "cell_type": "code",
   "execution_count": 19,
   "id": "a68b82e6",
   "metadata": {},
   "outputs": [
    {
     "name": "stdout",
     "output_type": "stream",
     "text": [
      "<class 'pandas.core.frame.DataFrame'>\n",
      "RangeIndex: 19 entries, 0 to 18\n",
      "Data columns (total 3 columns):\n",
      " #   Column    Non-Null Count  Dtype \n",
      "---  ------    --------------  ----- \n",
      " 0   headers   19 non-null     object\n",
      " 1   párrafos  19 non-null     object\n",
      " 2   links     19 non-null     object\n",
      "dtypes: object(3)\n",
      "memory usage: 584.0+ bytes\n"
     ]
    }
   ],
   "source": [
    "df.info()"
   ]
  },
  {
   "cell_type": "markdown",
   "id": "d9d88495",
   "metadata": {},
   "source": [
    "## FUNCIÓN DE ACCESO A UN APARTADO"
   ]
  },
  {
   "cell_type": "code",
   "execution_count": 20,
   "id": "286010ef",
   "metadata": {},
   "outputs": [],
   "source": [
    "def link_function(x):\n",
    "    print('Apartado:',df.loc[x]['headers'])\n",
    "    print('Párrafo',x,':')\n",
    "    print(df.loc[x]['párrafos']) \n",
    "    print('Links del párrafo',x,':')\n",
    "    for e in df.loc[x]['links']:\n",
    "        print(e)"
   ]
  },
  {
   "cell_type": "code",
   "execution_count": 21,
   "id": "fc93be49",
   "metadata": {},
   "outputs": [
    {
     "name": "stdout",
     "output_type": "stream",
     "text": [
      "Selecciona número de párrafo: 10\n",
      "Apartado: Fauna\n",
      "Párrafo 10 :\n",
      "En lo que respecta a las aves, la gaviota patiamarilla (Larus michahellis) es habitual en su puerto pesquero mientras que el papamoscas gris (Muscicapa striata),nota 1 de la subespecie balear, Muscicapa striata balearica es habitual en la época estival en los terrenos rocosos con matorrales situados entre el núcleo urbano y la Torre de Fornells.\n",
      "Links del párrafo 10 :\n",
      "https://es.wikipedia.org/wiki/Larus_michahellis\n",
      "https://es.wikipedia.org/wiki/Muscicapa_striata\n",
      "https://es.wikipedia.org/wiki/Fornells#cite_note-5\n",
      "https://es.wikipedia.org/wiki/Torre_de_Fornells\n"
     ]
    }
   ],
   "source": [
    "num=int(input('Selecciona número de párrafo: '))\n",
    "link_function(num)"
   ]
  },
  {
   "cell_type": "code",
   "execution_count": 22,
   "id": "857de565",
   "metadata": {},
   "outputs": [
    {
     "data": {
      "text/plain": [
       "<bound method ChromiumDriver.quit of <selenium.webdriver.chrome.webdriver.WebDriver (session=\"dcd1736c835139797fda0d2ff60b8e64\")>>"
      ]
     },
     "execution_count": 22,
     "metadata": {},
     "output_type": "execute_result"
    }
   ],
   "source": [
    "driver.quit"
   ]
  },
  {
   "cell_type": "code",
   "execution_count": 23,
   "id": "c649fa66",
   "metadata": {},
   "outputs": [],
   "source": [
    "df.to_csv('Wikipedia.csv')"
   ]
  },
  {
   "cell_type": "code",
   "execution_count": null,
   "id": "32ac7415",
   "metadata": {},
   "outputs": [],
   "source": []
  }
 ],
 "metadata": {
  "kernelspec": {
   "display_name": "Python 3 (ipykernel)",
   "language": "python",
   "name": "python3"
  },
  "language_info": {
   "codemirror_mode": {
    "name": "ipython",
    "version": 3
   },
   "file_extension": ".py",
   "mimetype": "text/x-python",
   "name": "python",
   "nbconvert_exporter": "python",
   "pygments_lexer": "ipython3",
   "version": "3.9.13"
  }
 },
 "nbformat": 4,
 "nbformat_minor": 5
}
